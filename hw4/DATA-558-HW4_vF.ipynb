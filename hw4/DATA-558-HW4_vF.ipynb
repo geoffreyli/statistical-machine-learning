{
 "cells": [
  {
   "cell_type": "markdown",
   "metadata": {},
   "source": [
    "## DATA 558: Homework 4\n",
    "\n",
    "Geoffrey Li\n",
    "\n",
    "May 3, 2019"
   ]
  },
  {
   "cell_type": "code",
   "execution_count": 1,
   "metadata": {},
   "outputs": [],
   "source": [
    "import numpy as np\n",
    "import pandas as pd\n",
    "import matplotlib.pyplot as plt\n",
    "from sklearn.linear_model import LogisticRegressionCV\n",
    "from sklearn import preprocessing\n",
    "import datetime\n",
    "import pickle"
   ]
  },
  {
   "cell_type": "markdown",
   "metadata": {},
   "source": [
    "## Exercise 2"
   ]
  },
  {
   "cell_type": "markdown",
   "metadata": {},
   "source": [
    "(a) Generate a simulated data set with 30 observations in each of three classes (i.e. 90 observations total), and 60 features. Be sure to add a mean shift to the observations in each class so that there are three distinct classes."
   ]
  },
  {
   "cell_type": "code",
   "execution_count": 2,
   "metadata": {},
   "outputs": [],
   "source": [
    "X = \\\n",
    "    np.append(\n",
    "        np.random.uniform(0, 50, size=(30, 60)), np.append(\n",
    "            np.random.uniform(50, 100, size=(30, 60)), \n",
    "            np.random.uniform(100, 150, size=(30, 60)),\n",
    "            axis=0\n",
    "        ), axis=0\n",
    "    )"
   ]
  },
  {
   "cell_type": "code",
   "execution_count": 3,
   "metadata": {},
   "outputs": [
    {
     "data": {
      "text/plain": [
       "(90, 60)"
      ]
     },
     "execution_count": 3,
     "metadata": {},
     "output_type": "execute_result"
    }
   ],
   "source": [
    "X.shape"
   ]
  },
  {
   "cell_type": "code",
   "execution_count": 4,
   "metadata": {},
   "outputs": [],
   "source": [
    "Z = X - X.mean(axis=0)"
   ]
  },
  {
   "cell_type": "markdown",
   "metadata": {},
   "source": [
    "(b) Write your own power iteration algorithm. Run it on the 90 observations to compute the first principal component. After performing the appropriate projection (see Lab #4), run it on the 90 observations now to compute the second principal component. Compare your results to the ones obtained with scikit-learn’s PCA algorithm. "
   ]
  },
  {
   "cell_type": "code",
   "execution_count": 5,
   "metadata": {},
   "outputs": [],
   "source": [
    "def prep_cov_mat(z):\n",
    "    return 1/(z.shape[0]-1)*(z.T @ z)"
   ]
  },
  {
   "cell_type": "code",
   "execution_count": 6,
   "metadata": {},
   "outputs": [],
   "source": [
    "def power_iter_algo(A, max_iter = 100):\n",
    "    i = 0\n",
    "    eigvec = np.random.uniform(0, 1, size=(A.shape[1], 1))\n",
    "    \n",
    "    while i < max_iter:\n",
    "        z = A @ eigvec\n",
    "        eigvec = z/np.sqrt(np.sum(z**2))\n",
    "        eigval = eigvec.T @ A @ eigvec\n",
    "        i += 1\n",
    "    \n",
    "    return eigval[0, 0], eigvec\n",
    "    "
   ]
  },
  {
   "cell_type": "code",
   "execution_count": 7,
   "metadata": {},
   "outputs": [],
   "source": [
    "def find_k_pc(A, k):\n",
    "    eigval = list()\n",
    "    eigvec = list()\n",
    "    \n",
    "    for i in range(k):\n",
    "        eigval.append(None)\n",
    "        eigvec.append(None)\n",
    "        eigval[i], eigvec[i] = power_iter_algo(A)\n",
    "        A = A - eigval[i]*(eigvec[i]@eigvec[i].T)\n",
    "        print('Power Iteration '+str(i)+' Complete. '+str(datetime.datetime.now()))\n",
    "    \n",
    "    return eigval, eigvec"
   ]
  },
  {
   "cell_type": "code",
   "execution_count": 8,
   "metadata": {},
   "outputs": [],
   "source": [
    "def proj_k_pc(x, pc_list, k):\n",
    "    pc_matrix = np.concatenate(pc_list[0:k], axis=1)\n",
    "    return x @ pc_matrix"
   ]
  },
  {
   "cell_type": "code",
   "execution_count": 9,
   "metadata": {},
   "outputs": [
    {
     "name": "stdout",
     "output_type": "stream",
     "text": [
      "Power Iteration 0 Complete. 2019-05-05 17:56:17.405034\n",
      "Power Iteration 1 Complete. 2019-05-05 17:56:17.409191\n"
     ]
    }
   ],
   "source": [
    "Z_cov_mat = prep_cov_mat(Z)\n",
    "pc_eigval, pc = find_k_pc(Z_cov_mat, 2)\n",
    "Z_proj_2d = proj_k_pc(Z, pc, 2)"
   ]
  },
  {
   "cell_type": "markdown",
   "metadata": {},
   "source": [
    "Plot the first two principal component score vectors. Use a different color to indicate the observations in each of the three classes. If the three classes appear separated in this plot, then you’re done. If not, then return to part (a) and modify the simulation so that there is greater separation between the three classes."
   ]
  },
  {
   "cell_type": "code",
   "execution_count": 10,
   "metadata": {},
   "outputs": [
    {
     "data": {
      "text/plain": [
       "<matplotlib.collections.PathCollection at 0x1a24f68e48>"
      ]
     },
     "execution_count": 10,
     "metadata": {},
     "output_type": "execute_result"
    },
    {
     "data": {
      "image/png": "[encoded data removed]",
      "text/plain": [
       "<Figure size 432x288 with 1 Axes>"
      ]
     },
     "metadata": {
      "needs_background": "light"
     },
     "output_type": "display_data"
    }
   ],
   "source": [
    "plt.scatter(Z_proj_2d[0:30, 0], Z_proj_2d[0:30, 1], color='red')\n",
    "plt.scatter(Z_proj_2d[30:60, 0], Z_proj_2d[30:60, 1], color='blue')\n",
    "plt.scatter(Z_proj_2d[60:90, 0], Z_proj_2d[60:90, 1], color='green')"
   ]
  },
  {
   "cell_type": "markdown",
   "metadata": {},
   "source": [
    "### Trying with sklearn's PCA"
   ]
  },
  {
   "cell_type": "code",
   "execution_count": 11,
   "metadata": {},
   "outputs": [
    {
     "data": {
      "text/plain": [
       "PCA(copy=True, iterated_power='auto', n_components=2, random_state=None,\n",
       "  svd_solver='auto', tol=0.0, whiten=False)"
      ]
     },
     "execution_count": 11,
     "metadata": {},
     "output_type": "execute_result"
    }
   ],
   "source": [
    "from sklearn.decomposition import PCA\n",
    "\n",
    "pca = PCA(n_components=2)\n",
    "pca.fit(Z)"
   ]
  },
  {
   "cell_type": "markdown",
   "metadata": {},
   "source": [
    "First Principal Component"
   ]
  },
  {
   "cell_type": "code",
   "execution_count": 12,
   "metadata": {},
   "outputs": [
    {
     "data": {
      "text/plain": [
       "array([0.1234, 0.1241, 0.1315, 0.1245, 0.126 , 0.1348, 0.1315, 0.1285,\n",
       "       0.1306, 0.1256, 0.1327, 0.1257, 0.1312, 0.131 , 0.124 , 0.1325,\n",
       "       0.131 , 0.1307, 0.1289, 0.1259, 0.1345, 0.1282, 0.1369, 0.1294,\n",
       "       0.1327, 0.1266, 0.1199, 0.1249, 0.1281, 0.1279, 0.1319, 0.128 ,\n",
       "       0.129 , 0.1345, 0.1326, 0.1356, 0.1303, 0.126 , 0.126 , 0.1318,\n",
       "       0.128 , 0.1274, 0.1252, 0.1218, 0.1348, 0.1314, 0.1316, 0.1219,\n",
       "       0.1337, 0.1251, 0.1259, 0.1267, 0.1313, 0.1285, 0.1225, 0.1353,\n",
       "       0.1295, 0.1299, 0.1287, 0.1345])"
      ]
     },
     "execution_count": 12,
     "metadata": {},
     "output_type": "execute_result"
    }
   ],
   "source": [
    "pca.components_[0].round(4)"
   ]
  },
  {
   "cell_type": "code",
   "execution_count": 13,
   "metadata": {},
   "outputs": [
    {
     "data": {
      "text/plain": [
       "array([-0.,  0., -0., -0.,  0.,  0.,  0., -0.,  0., -0.,  0.,  0.,  0.,\n",
       "        0.,  0.,  0., -0.,  0., -0., -0.,  0.,  0., -0.,  0.,  0.,  0.,\n",
       "        0., -0., -0., -0.,  0.,  0.,  0., -0., -0., -0.,  0.,  0., -0.,\n",
       "        0., -0., -0.,  0.,  0.,  0.,  0.,  0., -0.,  0.,  0.,  0., -0.,\n",
       "        0.,  0., -0.,  0.,  0.,  0., -0., -0.])"
      ]
     },
     "execution_count": 13,
     "metadata": {},
     "output_type": "execute_result"
    }
   ],
   "source": [
    "# Error between my implementation and sklearn.PCA\n",
    "(pc[0][:,0] - pca.components_[0]).round(4)"
   ]
  },
  {
   "cell_type": "markdown",
   "metadata": {},
   "source": [
    "Second Principal Component"
   ]
  },
  {
   "cell_type": "code",
   "execution_count": 14,
   "metadata": {},
   "outputs": [
    {
     "data": {
      "text/plain": [
       "array([-0.0092, -0.0615,  0.276 , -0.1463, -0.1118, -0.0593,  0.1474,\n",
       "       -0.027 ,  0.0188, -0.1206, -0.0469, -0.015 ,  0.0349, -0.0054,\n",
       "       -0.0168,  0.0467, -0.0828, -0.0191,  0.0781, -0.086 , -0.1448,\n",
       "        0.1338,  0.1499, -0.1377,  0.2435, -0.0016,  0.1713,  0.0654,\n",
       "       -0.0946,  0.0164, -0.066 ,  0.1792,  0.0502, -0.0729, -0.1512,\n",
       "       -0.0759, -0.1408,  0.0953,  0.0835, -0.0395, -0.1935, -0.3361,\n",
       "        0.0626, -0.2295, -0.0747, -0.1873,  0.1443,  0.2125,  0.1244,\n",
       "        0.0993,  0.0773, -0.0319, -0.0444,  0.0251, -0.0493,  0.2132,\n",
       "        0.1542,  0.2411, -0.2062, -0.0683])"
      ]
     },
     "execution_count": 14,
     "metadata": {},
     "output_type": "execute_result"
    }
   ],
   "source": [
    "pca.components_[1].round(4)"
   ]
  },
  {
   "cell_type": "code",
   "execution_count": 16,
   "metadata": {},
   "outputs": [
    {
     "data": {
      "text/plain": [
       "array([ 0., -0.,  0.,  0.,  0., -0., -0.,  0.,  0.,  0.,  0., -0.,  0.,\n",
       "       -0.,  0., -0.,  0., -0.,  0.,  0., -0.,  0., -0., -0., -0., -0.,\n",
       "       -0.,  0., -0.,  0.,  0., -0., -0., -0., -0.,  0., -0., -0.,  0.,\n",
       "       -0.,  0.,  0.,  0., -0.,  0., -0.,  0.,  0.,  0., -0.,  0.,  0.,\n",
       "       -0.,  0.,  0.,  0., -0.,  0.,  0.,  0.])"
      ]
     },
     "execution_count": 16,
     "metadata": {},
     "output_type": "execute_result"
    }
   ],
   "source": [
    "# Error between my implementation and sklearn.PCA\n",
    "(pc[1][:,0] + pca.components_[1]).round(4)"
   ]
  },
  {
   "cell_type": "markdown",
   "metadata": {},
   "source": [
    "The principal components that I found using Power Iteration method seems to align closely with sklearn."
   ]
  },
  {
   "cell_type": "markdown",
   "metadata": {},
   "source": [
    "# Exercise 3"
   ]
  },
  {
   "cell_type": "markdown",
   "metadata": {},
   "source": [
    "### Load in gradient descent algorithms."
   ]
  },
  {
   "cell_type": "code",
   "execution_count": 17,
   "metadata": {},
   "outputs": [],
   "source": [
    "def computegrad(x, y, beta, lamb):\n",
    "    p = np.identity(len(x)) - np.diag(1/(1+np.exp(np.multiply(-y, x@beta))).reshape(1, -1)[0])\n",
    "    return -1/len(x) * x.T @ p @ y + 2*lamb*beta\n",
    "\n",
    "\n",
    "def computeobj(x, y, beta, lamb):\n",
    "    return 1/len(x)*np.sum(np.log(1+np.exp(np.multiply(-y, x@beta)))) + lamb*np.sum(beta**2)\n",
    "\n",
    "\n",
    "def backtracking(curr_beta, lamb, x, y, eta_t=1, alpha=0.5, gamma=0.5, max_iter=100):\n",
    "    grad_curr_beta = computegrad(x, y, curr_beta, lamb)  # Gradient at current beta\n",
    "    norm_grad_curr_beta = np.sqrt(np.sum(grad_curr_beta ** 2))  # Norm of the gradient at current beta\n",
    "    found_eta_t = False\n",
    "    i = 0  # Iteration counter\n",
    "\n",
    "    while (found_eta_t is False and i < max_iter):\n",
    "        if (computeobj(x, y, curr_beta - eta_t * grad_curr_beta, lamb) <\n",
    "                computeobj(x, y, curr_beta, lamb) - alpha * eta_t * norm_grad_curr_beta ** 2):\n",
    "            found_eta_t = True\n",
    "        elif i == max_iter - 1:\n",
    "            raise ('Maximum number of iterations of backtracking reached')\n",
    "        else:\n",
    "            eta_t *= gamma\n",
    "            i += 1\n",
    "\n",
    "    return eta_t\n",
    "\n",
    "\n",
    "def initstepsize(x, lamb):\n",
    "    return 1/(max(np.linalg.eigh(1/len(x)*x.T@x)[0]) + lamb)\n",
    "\n",
    "\n",
    "def graddescent(beta_init, lamb, x, y, ss_init, targ_acc):\n",
    "    beta_values = list()\n",
    "    beta_values.append(beta_init)\n",
    "\n",
    "    grad_beta = computegrad(x, y, beta_init, lamb)\n",
    "    norm_grad_beta = np.sqrt(np.sum(grad_beta ** 2))\n",
    "    tuned_step_size = ss_init\n",
    "\n",
    "    t = 0\n",
    "\n",
    "    while norm_grad_beta > targ_acc:\n",
    "        tuned_step_size = backtracking(beta_values[t], lamb, x, y,\n",
    "                                       eta_t=tuned_step_size, alpha=0.5, gamma=0.8, max_iter=100)\n",
    "        beta_values.append(beta_values[t] - tuned_step_size * grad_beta)\n",
    "\n",
    "        t += 1\n",
    "\n",
    "        grad_beta = computegrad(x, y, beta_values[t], lamb)\n",
    "        norm_grad_beta = np.sqrt(np.sum(grad_beta ** 2))\n",
    "\n",
    "    return beta_values\n",
    "\n",
    "\n",
    "def fastgradalgo(beta_init, lamb, x, y, theta_init, ss_init, targ_acc):\n",
    "    beta_values = list()\n",
    "    beta_values.append(beta_init)\n",
    "    theta = theta_init\n",
    "\n",
    "    grad_theta = computegrad(x, y, theta, lamb)\n",
    "\n",
    "    grad_beta = computegrad(x, y, beta_init, lamb)\n",
    "    norm_grad_beta = np.sqrt(np.sum(grad_beta ** 2))\n",
    "\n",
    "    tuned_step_size = ss_init\n",
    "\n",
    "    t = 0\n",
    "\n",
    "    while norm_grad_beta > targ_acc:\n",
    "        grad_theta = computegrad(x, y, theta, lamb)\n",
    "\n",
    "        tuned_step_size = backtracking(beta_values[t], lamb, x, y,\n",
    "                                       eta_t=tuned_step_size, alpha=0.5, gamma=0.8, max_iter=100)\n",
    "\n",
    "        beta_values.append(theta - tuned_step_size * grad_theta)\n",
    "        theta = beta_values[t + 1] + (t / (t + 3)) * (beta_values[t + 1] - beta_values[t])\n",
    "\n",
    "        t += 1\n",
    "\n",
    "        grad_beta = computegrad(x, y, beta_values[t], lamb)\n",
    "        norm_grad_beta = np.sqrt(np.sum(grad_beta ** 2))\n",
    "\n",
    "    return beta_values\n",
    "\n",
    "\n",
    "def misclassificationerror(y, x, b):\n",
    "    pred = np.fromiter(map(lambda p: 1 if p >= 0.5 else -1, 1/(1+np.exp(-x@b))), dtype=int)\n",
    "    pred = np.fromiter(map(lambda c: pos_class if c == 1 else neg_class, pred), dtype=int)\n",
    "    return 1 - np.mean(pred == y)\n",
    "\n",
    "\n",
    "def find_opt_lambda(x, y):\n",
    "    lr_cv = LogisticRegressionCV(penalty='l2',\n",
    "                                 fit_intercept=False,\n",
    "                                 tol=10e-8,\n",
    "                                 max_iter=1000,\n",
    "                                 cv=5)\n",
    "    lr_cv.fit(x, y)\n",
    "    return lr_cv.C_[0] "
   ]
  },
  {
   "cell_type": "markdown",
   "metadata": {},
   "source": [
    "### Load and process data. Choose 2 classes and relabel response variables."
   ]
  },
  {
   "cell_type": "code",
   "execution_count": 20,
   "metadata": {},
   "outputs": [],
   "source": [
    "path = '/Users/geoffreyli/geoffli @ UW/19-2-Sp-DATA-558/Homeworks/hw3/q4/'"
   ]
  },
  {
   "cell_type": "code",
   "execution_count": 21,
   "metadata": {},
   "outputs": [],
   "source": [
    "X_train = np.load(path+'train_features.npy')\n",
    "y_train = np.load(path+'train_labels.npy')\n",
    "\n",
    "X_val = np.load(path+'val_features.npy')\n",
    "y_val = np.load(path+'val_labels.npy')\n",
    "\n",
    "X_test = np.load(path+'test_features.npy')"
   ]
  },
  {
   "cell_type": "code",
   "execution_count": 22,
   "metadata": {},
   "outputs": [],
   "source": [
    "# Standardize the data\n",
    "scaler = preprocessing.StandardScaler().fit(X_train)\n",
    "X_train = scaler.transform(X_train)\n",
    "X_val = scaler.transform(X_val)\n",
    "X_test = scaler.transform(X_test)"
   ]
  },
  {
   "cell_type": "code",
   "execution_count": 23,
   "metadata": {
    "scrolled": true
   },
   "outputs": [],
   "source": [
    "# Subsetting data to just 2 classes: 1 (+1) and 0 (-1).\n",
    "pos_class = 1\n",
    "neg_class = 0\n",
    "\n",
    "train_subset = (y_train == pos_class) | (y_train == neg_class)\n",
    "val_subset = (y_val == pos_class) | (y_val == neg_class)\n",
    "\n",
    "y_train_subset = y_train[np.where(train_subset)]\n",
    "X_train_subset = X_train[train_subset.nonzero()[0]]\n",
    "\n",
    "y_val_subset = y_val[np.where(val_subset)]\n",
    "X_val_subset = X_val[val_subset.nonzero()[0]]"
   ]
  },
  {
   "cell_type": "code",
   "execution_count": 24,
   "metadata": {},
   "outputs": [],
   "source": [
    "y_train_subset = np.fromiter(map(lambda n: 1 if n == pos_class else -1, y_train_subset), dtype=int).reshape(-1, 1)\n",
    "y_val_subset = np.fromiter(map(lambda n: 1 if n == pos_class else -1, y_val_subset), dtype=int).reshape(-1, 1)"
   ]
  },
  {
   "cell_type": "code",
   "execution_count": 25,
   "metadata": {},
   "outputs": [],
   "source": [
    "cov_mat_X_train = prep_cov_mat(X_train_subset)"
   ]
  },
  {
   "cell_type": "markdown",
   "metadata": {},
   "source": [
    "### Find Principal Components using sklearn.PCA "
   ]
  },
  {
   "cell_type": "code",
   "execution_count": 26,
   "metadata": {},
   "outputs": [],
   "source": [
    "dims = [2**i for i in range(1,10)]"
   ]
  },
  {
   "cell_type": "code",
   "execution_count": 27,
   "metadata": {},
   "outputs": [],
   "source": [
    "from sklearn.decomposition import PCA\n",
    "\n",
    "pca_comp = PCA(n_components=max(dims))\n",
    "pca_comp.fit(cov_mat_X_train)\n",
    "pc = pca_comp.components_.T"
   ]
  },
  {
   "cell_type": "markdown",
   "metadata": {},
   "source": [
    "### Define function to run iteratively based on desired dimensionality reduction."
   ]
  },
  {
   "cell_type": "code",
   "execution_count": 28,
   "metadata": {},
   "outputs": [],
   "source": [
    "def PCA_classifier(y, x, y_subset, x_subset, x_test, pc_list, k):\n",
    "    print('Starting k =', k, 'projection...')\n",
    "    print(datetime.datetime.now())\n",
    "    \n",
    "    # Project X onto input # of dimensions using PCA principal components\n",
    "    x_train_subset_proj = x_subset @ pc_list[:, 0:k]\n",
    "    x_train_proj = x @ pc_list[:, 0:k]\n",
    "    x_test_proj = x_test @ pc_list[:, 0:k]\n",
    "    print('Projection complete.')\n",
    "    print(datetime.datetime.now())\n",
    "    \n",
    "    # Find optimal lambda\n",
    "    ol = find_opt_lambda(x_train_subset_proj, y_subset)\n",
    "    print('Found optimal lambda =', ol)\n",
    "    print(datetime.datetime.now())\n",
    "    \n",
    "    # Initialize fast gradient\n",
    "    init_beta = np.zeros(x_train_subset_proj.shape[1])[:, np.newaxis]\n",
    "    init_theta = np.zeros(x_train_subset_proj.shape[1])[:, np.newaxis]\n",
    "    init_eta = initstepsize(x_train_subset_proj, ol)\n",
    "    target_accuracy = 10**-4\n",
    "\n",
    "    # Run fast gradient and train classifier\n",
    "    comp_beta_opt = fastgradalgo(init_beta, ol, x_train_subset_proj, y_subset, init_theta, init_eta, target_accuracy)\n",
    "    comp_beta_opt_T = comp_beta_opt[len(comp_beta_opt)-1]\n",
    "    \n",
    "    # Make predictions for Kaggle test set\n",
    "    y_preds = np.fromiter(map(lambda p: 1 if p >= 0.5 else -1, 1/(1+np.exp(-x_test_proj@comp_beta_opt_T))), \n",
    "                          dtype=np.int)\n",
    "    y_preds = np.fromiter(map(lambda y: pos_class if y == 1 else neg_class, y_preds), dtype=int)\n",
    "    print(pd.DataFrame({'preds':y_preds}).groupby('preds').size())\n",
    "    pd.DataFrame({'Category':y_preds}).reset_index()\\\n",
    "        .rename(columns={'index':'Id'}).to_csv('./y-preds_'+str(k)+'.csv', index=False)\n",
    "    \n",
    "    # Return misclassification error using original train datasets (not subset)\n",
    "    error = misclassificationerror(y, x_train_proj, comp_beta_opt_T)\n",
    "    print('k =', k, 'iteration complete. Error =', error)\n",
    "    print(datetime.datetime.now())\n",
    "    print('')\n",
    "    \n",
    "    return error"
   ]
  },
  {
   "cell_type": "code",
   "execution_count": 29,
   "metadata": {
    "scrolled": true
   },
   "outputs": [
    {
     "name": "stdout",
     "output_type": "stream",
     "text": [
      "Starting k = 2 projection...\n",
      "2019-05-05 17:59:25.029966\n",
      "Projection complete.\n",
      "2019-05-05 17:59:25.048584\n",
      "Found optimal lambda = 0.046415888336127774\n",
      "2019-05-05 17:59:25.121654\n"
     ]
    },
    {
     "name": "stderr",
     "output_type": "stream",
     "text": [
      "/anaconda3/envs/data558/lib/python3.7/site-packages/sklearn/utils/validation.py:761: DataConversionWarning: A column-vector y was passed when a 1d array was expected. Please change the shape of y to (n_samples, ), for example using ravel().\n",
      "  y = column_or_1d(y, warn=True)\n"
     ]
    },
    {
     "name": "stdout",
     "output_type": "stream",
     "text": [
      "preds\n",
      "0    372\n",
      "1    628\n",
      "dtype: int64\n",
      "k = 2 iteration complete. Error = 0.8356\n",
      "2019-05-05 17:59:27.629805\n",
      "\n",
      "Starting k = 4 projection...\n",
      "2019-05-05 17:59:27.630088\n",
      "Projection complete.\n",
      "2019-05-05 17:59:27.646851\n",
      "Found optimal lambda = 0.000774263682681127\n",
      "2019-05-05 17:59:27.745242\n"
     ]
    },
    {
     "name": "stderr",
     "output_type": "stream",
     "text": [
      "/anaconda3/envs/data558/lib/python3.7/site-packages/sklearn/utils/validation.py:761: DataConversionWarning: A column-vector y was passed when a 1d array was expected. Please change the shape of y to (n_samples, ), for example using ravel().\n",
      "  y = column_or_1d(y, warn=True)\n"
     ]
    },
    {
     "name": "stdout",
     "output_type": "stream",
     "text": [
      "preds\n",
      "0    425\n",
      "1    575\n",
      "dtype: int64\n",
      "k = 4 iteration complete. Error = 0.8180000000000001\n",
      "2019-05-05 17:59:32.492864\n",
      "\n",
      "Starting k = 8 projection...\n",
      "2019-05-05 17:59:32.493081\n",
      "Projection complete.\n",
      "2019-05-05 17:59:32.508147\n",
      "Found optimal lambda = 0.000774263682681127\n",
      "2019-05-05 17:59:32.594912\n"
     ]
    },
    {
     "name": "stderr",
     "output_type": "stream",
     "text": [
      "/anaconda3/envs/data558/lib/python3.7/site-packages/sklearn/utils/validation.py:761: DataConversionWarning: A column-vector y was passed when a 1d array was expected. Please change the shape of y to (n_samples, ), for example using ravel().\n",
      "  y = column_or_1d(y, warn=True)\n"
     ]
    },
    {
     "name": "stdout",
     "output_type": "stream",
     "text": [
      "preds\n",
      "0    443\n",
      "1    557\n",
      "dtype: int64\n",
      "k = 8 iteration complete. Error = 0.8148\n",
      "2019-05-05 17:59:44.179226\n",
      "\n",
      "Starting k = 16 projection...\n",
      "2019-05-05 17:59:44.183378\n",
      "Projection complete.\n",
      "2019-05-05 17:59:44.205629\n"
     ]
    },
    {
     "name": "stderr",
     "output_type": "stream",
     "text": [
      "/anaconda3/envs/data558/lib/python3.7/site-packages/sklearn/utils/validation.py:761: DataConversionWarning: A column-vector y was passed when a 1d array was expected. Please change the shape of y to (n_samples, ), for example using ravel().\n",
      "  y = column_or_1d(y, warn=True)\n"
     ]
    },
    {
     "name": "stdout",
     "output_type": "stream",
     "text": [
      "Found optimal lambda = 0.046415888336127774\n",
      "2019-05-05 17:59:44.642659\n",
      "preds\n",
      "0    440\n",
      "1    560\n",
      "dtype: int64\n",
      "k = 16 iteration complete. Error = 0.8109999999999999\n",
      "2019-05-05 18:00:07.291800\n",
      "\n",
      "Starting k = 32 projection...\n",
      "2019-05-05 18:00:07.293399\n",
      "Projection complete.\n",
      "2019-05-05 18:00:07.329011\n"
     ]
    },
    {
     "name": "stderr",
     "output_type": "stream",
     "text": [
      "/anaconda3/envs/data558/lib/python3.7/site-packages/sklearn/utils/validation.py:761: DataConversionWarning: A column-vector y was passed when a 1d array was expected. Please change the shape of y to (n_samples, ), for example using ravel().\n",
      "  y = column_or_1d(y, warn=True)\n"
     ]
    },
    {
     "name": "stdout",
     "output_type": "stream",
     "text": [
      "Found optimal lambda = 0.005994842503189409\n",
      "2019-05-05 18:00:07.685162\n",
      "preds\n",
      "0    456\n",
      "1    544\n",
      "dtype: int64\n",
      "k = 32 iteration complete. Error = 0.8108\n",
      "2019-05-05 18:00:34.542384\n",
      "\n",
      "Starting k = 64 projection...\n",
      "2019-05-05 18:00:34.543142\n",
      "Projection complete.\n",
      "2019-05-05 18:00:34.596158\n"
     ]
    },
    {
     "name": "stderr",
     "output_type": "stream",
     "text": [
      "/anaconda3/envs/data558/lib/python3.7/site-packages/sklearn/utils/validation.py:761: DataConversionWarning: A column-vector y was passed when a 1d array was expected. Please change the shape of y to (n_samples, ), for example using ravel().\n",
      "  y = column_or_1d(y, warn=True)\n"
     ]
    },
    {
     "name": "stdout",
     "output_type": "stream",
     "text": [
      "Found optimal lambda = 0.005994842503189409\n",
      "2019-05-05 18:00:34.984020\n",
      "preds\n",
      "0    418\n",
      "1    582\n",
      "dtype: int64\n",
      "k = 64 iteration complete. Error = 0.8072\n",
      "2019-05-05 18:01:29.209150\n",
      "\n",
      "Starting k = 128 projection...\n",
      "2019-05-05 18:01:29.213390\n",
      "Projection complete.\n",
      "2019-05-05 18:01:29.294551\n"
     ]
    },
    {
     "name": "stderr",
     "output_type": "stream",
     "text": [
      "/anaconda3/envs/data558/lib/python3.7/site-packages/sklearn/utils/validation.py:761: DataConversionWarning: A column-vector y was passed when a 1d array was expected. Please change the shape of y to (n_samples, ), for example using ravel().\n",
      "  y = column_or_1d(y, warn=True)\n"
     ]
    },
    {
     "name": "stdout",
     "output_type": "stream",
     "text": [
      "Found optimal lambda = 0.000774263682681127\n",
      "2019-05-05 18:01:30.366970\n",
      "preds\n",
      "0    441\n",
      "1    559\n",
      "dtype: int64\n",
      "k = 128 iteration complete. Error = 0.8006\n",
      "2019-05-05 18:03:23.526889\n",
      "\n",
      "Starting k = 256 projection...\n",
      "2019-05-05 18:03:23.531490\n",
      "Projection complete.\n",
      "2019-05-05 18:03:23.652631\n"
     ]
    },
    {
     "name": "stderr",
     "output_type": "stream",
     "text": [
      "/anaconda3/envs/data558/lib/python3.7/site-packages/sklearn/utils/validation.py:761: DataConversionWarning: A column-vector y was passed when a 1d array was expected. Please change the shape of y to (n_samples, ), for example using ravel().\n",
      "  y = column_or_1d(y, warn=True)\n"
     ]
    },
    {
     "name": "stdout",
     "output_type": "stream",
     "text": [
      "Found optimal lambda = 0.005994842503189409\n",
      "2019-05-05 18:03:24.333348\n",
      "preds\n",
      "0    440\n",
      "1    560\n",
      "dtype: int64\n",
      "k = 256 iteration complete. Error = 0.8002\n",
      "2019-05-05 18:05:28.687736\n",
      "\n",
      "Starting k = 512 projection...\n",
      "2019-05-05 18:05:28.690431\n",
      "Projection complete.\n",
      "2019-05-05 18:05:28.887600\n"
     ]
    },
    {
     "name": "stderr",
     "output_type": "stream",
     "text": [
      "/anaconda3/envs/data558/lib/python3.7/site-packages/sklearn/utils/validation.py:761: DataConversionWarning: A column-vector y was passed when a 1d array was expected. Please change the shape of y to (n_samples, ), for example using ravel().\n",
      "  y = column_or_1d(y, warn=True)\n"
     ]
    },
    {
     "name": "stdout",
     "output_type": "stream",
     "text": [
      "Found optimal lambda = 0.005994842503189409\n",
      "2019-05-05 18:05:29.884091\n",
      "preds\n",
      "0    440\n",
      "1    560\n",
      "dtype: int64\n",
      "k = 512 iteration complete. Error = 0.8\n",
      "2019-05-05 18:08:47.583737\n",
      "\n"
     ]
    }
   ],
   "source": [
    "misclasserror_by_dim_train = list(\n",
    "    map(lambda k: PCA_classifier(\n",
    "        y_train, X_train, y_train_subset, X_train_subset, X_test, pc, k), dims))"
   ]
  },
  {
   "cell_type": "code",
   "execution_count": 34,
   "metadata": {},
   "outputs": [],
   "source": [
    "# From kaggle submissions\n",
    "dims_test = [2, 8, 16, 128, 256, 512]\n",
    "misclasserror_by_dim_test = [1-0.18333, 1-0.21000, 1-0.21000, 1-0.21333, 1-0.21666, 1-0.21666]"
   ]
  },
  {
   "cell_type": "code",
   "execution_count": 39,
   "metadata": {},
   "outputs": [
    {
     "data": {
      "image/png": "[encoded data removed]",
      "text/plain": [
       "<Figure size 720x576 with 1 Axes>"
      ]
     },
     "metadata": {
      "needs_background": "light"
     },
     "output_type": "display_data"
    }
   ],
   "source": [
    "plt.figure(figsize=(10,8))\n",
    "plt.plot(dims, misclasserror_by_dim_train)\n",
    "plt.plot(dims_test, misclasserror_by_dim_test)\n",
    "plt.title('Misclassification Error vs. PC Dimensions')\n",
    "plt.xlabel('# Principal Component Dimensions')\n",
    "plt.ylabel('Misclassification Error')\n",
    "plt.legend(['Train Data', 'Test Data'], loc='upper right');"
   ]
  },
  {
   "cell_type": "markdown",
   "metadata": {},
   "source": [
    "Here, we see the misclassification error rate (training data) approach 0.8 as the number of principal components increases. This makes sense as the reconstruction error is lowered as we use more principal components. 0.8 is the desired misclassification rate because we only picked 2 classes out of 10 to train our classifier on. The Kaggle test set submissions show slightly lower misclassification rates since they only test initially on 30% of the submission, so the classes are imbalanced."
   ]
  },
  {
   "cell_type": "code",
   "execution_count": null,
   "metadata": {},
   "outputs": [],
   "source": []
  },
  {
   "cell_type": "code",
   "execution_count": null,
   "metadata": {},
   "outputs": [],
   "source": []
  }
 ],
 "metadata": {
  "kernelspec": {
   "display_name": "Python 3",
   "language": "python",
   "name": "python3"
  },
  "language_info": {
   "codemirror_mode": {
    "name": "ipython",
    "version": 3
   },
   "file_extension": ".py",
   "mimetype": "text/x-python",
   "name": "python",
   "nbconvert_exporter": "python",
   "pygments_lexer": "ipython3",
   "version": "3.7.3"
  }
 },
 "nbformat": 4,
 "nbformat_minor": 2
}
