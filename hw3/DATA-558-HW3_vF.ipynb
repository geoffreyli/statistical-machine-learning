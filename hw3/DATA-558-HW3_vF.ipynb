{
 "cells": [
  {
   "cell_type": "markdown",
   "metadata": {},
   "source": [
    "## DATA 558: Homework 3\n",
    "\n",
    "Geoffrey Li\n",
    "\n",
    "April 26, 2019"
   ]
  },
  {
   "cell_type": "code",
   "execution_count": 1,
   "metadata": {},
   "outputs": [],
   "source": [
    "import pandas as pd\n",
    "import numpy as np\n",
    "import matplotlib.pyplot as plt"
   ]
  },
  {
   "cell_type": "markdown",
   "metadata": {},
   "source": [
    "## Exercise 1"
   ]
  },
  {
   "cell_type": "markdown",
   "metadata": {},
   "source": [
    "### 1.1: Load and Process Data"
   ]
  },
  {
   "cell_type": "code",
   "execution_count": 2,
   "metadata": {},
   "outputs": [],
   "source": [
    "spam = pd.read_csv('./spam.data', sep='\\s+', header=None)"
   ]
  },
  {
   "cell_type": "code",
   "execution_count": 3,
   "metadata": {},
   "outputs": [
    {
     "data": {
      "text/plain": [
       "(4601, 58)"
      ]
     },
     "execution_count": 3,
     "metadata": {},
     "output_type": "execute_result"
    }
   ],
   "source": [
    "spam.shape"
   ]
  },
  {
   "cell_type": "code",
   "execution_count": 4,
   "metadata": {},
   "outputs": [],
   "source": [
    "# Create our X matrix with the predictors and y vector with the response\n",
    "X = spam.iloc[:,0:57]\n",
    "y = spam.iloc[:,57]"
   ]
  },
  {
   "cell_type": "code",
   "execution_count": 5,
   "metadata": {},
   "outputs": [],
   "source": [
    "# Replace 0's with -1's in the response\n",
    "y = y.replace(0, -1)"
   ]
  },
  {
   "cell_type": "code",
   "execution_count": 6,
   "metadata": {},
   "outputs": [],
   "source": [
    "from sklearn.model_selection import train_test_split\n",
    "\n",
    "# Divide the data into training and test sets.\n",
    "X_train, X_test, y_train, y_test = train_test_split(X, y, random_state=0)"
   ]
  },
  {
   "cell_type": "code",
   "execution_count": 7,
   "metadata": {},
   "outputs": [],
   "source": [
    "from sklearn import preprocessing\n",
    "\n",
    "# Standardize the data\n",
    "scaler = preprocessing.StandardScaler().fit(X_train)\n",
    "X_train = scaler.transform(X_train)\n",
    "X_test = scaler.transform(X_test)"
   ]
  },
  {
   "cell_type": "code",
   "execution_count": 8,
   "metadata": {},
   "outputs": [],
   "source": [
    "# We need to convert the y's to arrays\n",
    "\n",
    "y_train = np.asarray(y_train).reshape(-1, 1)\n",
    "y_test = np.asarray(y_test).reshape(-1, 1)"
   ]
  },
  {
   "cell_type": "code",
   "execution_count": null,
   "metadata": {},
   "outputs": [],
   "source": []
  },
  {
   "cell_type": "code",
   "execution_count": null,
   "metadata": {},
   "outputs": [],
   "source": []
  },
  {
   "cell_type": "markdown",
   "metadata": {},
   "source": [
    "### 1.2: Define Functions"
   ]
  },
  {
   "cell_type": "code",
   "execution_count": 2,
   "metadata": {},
   "outputs": [],
   "source": [
    "def computegrad(x, y, beta, lamb):\n",
    "    p = np.identity(len(x)) - np.diag(1/(1+np.exp(np.multiply(-y,x@beta))).reshape(1,-1)[0])\n",
    "    return -1/len(x)*x.T@p@y + 2*lamb*beta"
   ]
  },
  {
   "cell_type": "code",
   "execution_count": 3,
   "metadata": {},
   "outputs": [],
   "source": [
    "def computeobj(x, y, beta, lamb):\n",
    "    return 1/len(x)*np.sum(np.log(1+np.exp(np.multiply(-y,x@beta)))) + lamb*np.sum(beta**2)"
   ]
  },
  {
   "cell_type": "code",
   "execution_count": 4,
   "metadata": {},
   "outputs": [],
   "source": [
    "def backtracking(curr_beta, eta_t=1, alpha=0.5, gamma=0.5, max_iter=100):\n",
    "    \"\"\"\n",
    "    Perform backtracking line search\n",
    "    Inputs:\n",
    "      - curr_beta: Current beta point\n",
    "      - eta_t: Starting (maximum) step size\n",
    "      - alpha: Constant used to define sufficient decrease condition\n",
    "      - gamma: Fraction by which we decrease t if the previous t doesn't work\n",
    "      - max_iter: Maximum number of iterations to run the algorithm\n",
    "    Output:\n",
    "      - eta_t: Step size to use\n",
    "    \"\"\"\n",
    "    grad_curr_beta = computegrad(X_train, y_train, curr_beta, lamb)  # Gradient at current beta\n",
    "    norm_grad_curr_beta = np.sqrt(np.sum(grad_curr_beta**2))  # Norm of the gradient at current beta\n",
    "    found_eta_t = False\n",
    "    i = 0  # Iteration counter\n",
    "    \n",
    "    while (found_eta_t is False and i < max_iter):     \n",
    "        if (computeobj(X_train, y_train, curr_beta-eta_t*grad_curr_beta, lamb) < \n",
    "            computeobj(X_train, y_train, curr_beta, lamb) - alpha*eta_t*norm_grad_curr_beta**2):\n",
    "#             print(\"Found step size\")\n",
    "#             print(\"Left: \"+str(computeobj(X_train, y_train, curr_beta-eta_t*grad_curr_beta, lamb)))\n",
    "#             print(\"Right: \"+str(computeobj(X_train, y_train, curr_beta, lamb) - alpha*eta_t*norm_grad_curr_beta**2))\n",
    "            found_eta_t = True\n",
    "        elif i == max_iter - 1:\n",
    "            raise('Maximum number of iterations of backtracking reached')\n",
    "        else:\n",
    "            eta_t *= gamma\n",
    "            i += 1\n",
    "#             print(\"BT Iteration \"+str(i)+\"; step size = \"+str(eta_t))\n",
    "    \n",
    "    return eta_t"
   ]
  },
  {
   "cell_type": "code",
   "execution_count": 5,
   "metadata": {},
   "outputs": [],
   "source": [
    "def initstepsize(x, lamb):\n",
    "    return max(np.linalg.eigh(1/len(x)*x.T@x)[0]) + lamb"
   ]
  },
  {
   "cell_type": "code",
   "execution_count": 6,
   "metadata": {},
   "outputs": [],
   "source": [
    "def graddescent(beta_init, ss_init, targ_acc):\n",
    "\n",
    "    beta_values = list()\n",
    "    beta_values.append(beta_init)\n",
    "    \n",
    "    grad_beta = computegrad(X_train, y_train, beta_init, lamb)\n",
    "    norm_grad_beta = np.sqrt(np.sum(grad_beta**2))\n",
    "    tuned_step_size = ss_init\n",
    "    \n",
    "    # Take the initial step \n",
    "#     beta_values.append(beta_init - tuned_step_size*grad_beta) \n",
    "    t = 0\n",
    "    \n",
    "    while norm_grad_beta > targ_acc:\n",
    "\n",
    "        tuned_step_size = backtracking(beta_values[t], eta_t=tuned_step_size, alpha=0.5, gamma=0.8, max_iter=100)\n",
    "        beta_values.append(beta_values[t] - tuned_step_size*grad_beta)\n",
    "        \n",
    "#         print(\"Gradient Descent \"+str(t))\n",
    "#         print(\"Norm_grad_beta: \"+str(norm_grad_beta))\n",
    "#         print(\"Tuned_step_size: \"+str(tuned_step_size))\n",
    "#         print(\"\")\n",
    "        \n",
    "        t += 1\n",
    "        \n",
    "        grad_beta = computegrad(X_train, y_train, beta_values[t], lamb)\n",
    "        norm_grad_beta = np.sqrt(np.sum(grad_beta**2))\n",
    "        \n",
    "\n",
    "    return beta_values\n",
    "    "
   ]
  },
  {
   "cell_type": "code",
   "execution_count": 7,
   "metadata": {},
   "outputs": [],
   "source": [
    "def fastgradalgo(beta_init, theta_init, ss_init, targ_acc):\n",
    "    beta_values = list()\n",
    "    beta_values.append(beta_init)\n",
    "    theta = theta_init\n",
    "    \n",
    "    grad_theta = computegrad(X_train, y_train, theta, lamb)\n",
    "#     norm_grad_theta = np.sqrt(np.sum(grad_theta**2))\n",
    "    \n",
    "    grad_beta = computegrad(X_train, y_train, beta_init, lamb)\n",
    "    norm_grad_beta = np.sqrt(np.sum(grad_beta**2))\n",
    "    \n",
    "    tuned_step_size = ss_init\n",
    "    \n",
    "    t = 0\n",
    "    \n",
    "    while norm_grad_beta > targ_acc:\n",
    "        grad_theta = computegrad(X_train, y_train, theta, lamb)\n",
    "#         norm_grad_theta = np.sqrt(np.sum(grad_theta**2))\n",
    "        \n",
    "        tuned_step_size = backtracking(beta_values[t], eta_t=tuned_step_size, alpha=0.5, gamma=0.8, max_iter=100)\n",
    "        \n",
    "        beta_values.append(theta - tuned_step_size*grad_theta)\n",
    "        theta = beta_values[t+1] + (t/(t+3))*(beta_values[t+1] - beta_values[t])\n",
    "        \n",
    "        t += 1\n",
    "        \n",
    "        grad_beta = computegrad(X_train, y_train, beta_values[t], lamb)\n",
    "        norm_grad_beta = np.sqrt(np.sum(grad_beta**2))\n",
    "        \n",
    "    return beta_values"
   ]
  },
  {
   "cell_type": "markdown",
   "metadata": {},
   "source": [
    "### 1.3: Run Gradient Descent"
   ]
  },
  {
   "cell_type": "code",
   "execution_count": 15,
   "metadata": {},
   "outputs": [],
   "source": [
    "init_beta = np.zeros(X_train.shape[1]).reshape(-1, 1)\n",
    "lamb = 0.1\n",
    "init_eta = initstepsize(X_train, lamb)\n",
    "target_accuracy = 10**-4\n",
    "\n",
    "beta_results = graddescent(init_beta, init_eta, target_accuracy)\n",
    "\n",
    "# Create array of Objective Values at each iteration\n",
    "obj_value_results = list(map(lambda bt: computeobj(X_train, y_train, bt, lamb), beta_results))"
   ]
  },
  {
   "cell_type": "code",
   "execution_count": 16,
   "metadata": {
    "scrolled": true
   },
   "outputs": [
    {
     "data": {
      "text/plain": [
       "array([[ 0.02970867],\n",
       "       [-0.02223558],\n",
       "       [ 0.08670667],\n",
       "       [ 0.05880021],\n",
       "       [ 0.1753553 ],\n",
       "       [ 0.12134703],\n",
       "       [ 0.29468427],\n",
       "       [ 0.13220617],\n",
       "       [ 0.12261813],\n",
       "       [ 0.05085066],\n",
       "       [ 0.13945624],\n",
       "       [-0.03880173],\n",
       "       [ 0.05659804],\n",
       "       [ 0.03271692],\n",
       "       [ 0.10923295],\n",
       "       [ 0.19740009],\n",
       "       [ 0.15748288],\n",
       "       [ 0.11929686],\n",
       "       [ 0.11495324],\n",
       "       [ 0.1291749 ],\n",
       "       [ 0.23579835],\n",
       "       [ 0.10139351],\n",
       "       [ 0.2502834 ],\n",
       "       [ 0.15326302],\n",
       "       [-0.14763027],\n",
       "       [-0.10449629],\n",
       "       [-0.12074387],\n",
       "       [-0.03506742],\n",
       "       [-0.05008774],\n",
       "       [-0.07531244],\n",
       "       [-0.03263821],\n",
       "       [-0.01355137],\n",
       "       [-0.07909091],\n",
       "       [-0.01606413],\n",
       "       [-0.0565662 ],\n",
       "       [-0.00413522],\n",
       "       [-0.08060725],\n",
       "       [-0.02236642],\n",
       "       [-0.05793896],\n",
       "       [ 0.01551776],\n",
       "       [-0.05250636],\n",
       "       [-0.09655855],\n",
       "       [-0.05870214],\n",
       "       [-0.06653568],\n",
       "       [-0.11087184],\n",
       "       [-0.11035469],\n",
       "       [-0.04531285],\n",
       "       [-0.05976887],\n",
       "       [-0.06760489],\n",
       "       [-0.03254446],\n",
       "       [-0.02808332],\n",
       "       [ 0.15979639],\n",
       "       [ 0.25540446],\n",
       "       [ 0.060288  ],\n",
       "       [ 0.06700642],\n",
       "       [ 0.13358311],\n",
       "       [ 0.16678823]])"
      ]
     },
     "execution_count": 16,
     "metadata": {},
     "output_type": "execute_result"
    }
   ],
   "source": [
    "# Beta_T for Gradient Descent\n",
    "beta_results[len(beta_results)-1]"
   ]
  },
  {
   "cell_type": "code",
   "execution_count": 17,
   "metadata": {},
   "outputs": [
    {
     "data": {
      "text/plain": [
       "0.45068554215327056"
      ]
     },
     "execution_count": 17,
     "metadata": {},
     "output_type": "execute_result"
    }
   ],
   "source": [
    "# Objective Value for Gradient Descent\n",
    "obj_value_results[len(obj_value_results)-1]"
   ]
  },
  {
   "cell_type": "markdown",
   "metadata": {},
   "source": [
    "### 1.4: Run Fast Gradient Algorithm"
   ]
  },
  {
   "cell_type": "code",
   "execution_count": 18,
   "metadata": {},
   "outputs": [],
   "source": [
    "init_beta = np.zeros(X_train.shape[1]).reshape(-1, 1)\n",
    "init_theta = np.zeros(X_train.shape[1]).reshape(-1, 1)\n",
    "lamb = 0.1\n",
    "init_eta = initstepsize(X_train, lamb)\n",
    "target_accuracy = 10**-4\n",
    "\n",
    "beta_results_fg = fastgradalgo(init_beta, init_theta, init_eta, target_accuracy)\n",
    "\n",
    "# Create array of Objective Values at each iteration\n",
    "obj_value_results_fg = list(map(lambda bt: computeobj(X_train, y_train, bt, lamb), beta_results_fg))"
   ]
  },
  {
   "cell_type": "code",
   "execution_count": 19,
   "metadata": {
    "scrolled": true
   },
   "outputs": [
    {
     "name": "stdout",
     "output_type": "stream",
     "text": [
      "[[ 0.0297]\n",
      " [-0.0222]\n",
      " [ 0.0867]\n",
      " [ 0.0588]\n",
      " [ 0.1753]\n",
      " [ 0.1213]\n",
      " [ 0.2949]\n",
      " [ 0.1321]\n",
      " [ 0.1225]\n",
      " [ 0.0508]\n",
      " [ 0.1393]\n",
      " [-0.0388]\n",
      " [ 0.0565]\n",
      " [ 0.0327]\n",
      " [ 0.1092]\n",
      " [ 0.1974]\n",
      " [ 0.1574]\n",
      " [ 0.1192]\n",
      " [ 0.115 ]\n",
      " [ 0.1292]\n",
      " [ 0.2357]\n",
      " [ 0.1015]\n",
      " [ 0.2504]\n",
      " [ 0.1533]\n",
      " [-0.1478]\n",
      " [-0.1045]\n",
      " [-0.1208]\n",
      " [-0.035 ]\n",
      " [-0.0501]\n",
      " [-0.0754]\n",
      " [-0.0327]\n",
      " [-0.0135]\n",
      " [-0.0791]\n",
      " [-0.016 ]\n",
      " [-0.0566]\n",
      " [-0.004 ]\n",
      " [-0.0806]\n",
      " [-0.0223]\n",
      " [-0.0579]\n",
      " [ 0.0155]\n",
      " [-0.0524]\n",
      " [-0.0966]\n",
      " [-0.0587]\n",
      " [-0.0666]\n",
      " [-0.1109]\n",
      " [-0.1104]\n",
      " [-0.0453]\n",
      " [-0.0598]\n",
      " [-0.0677]\n",
      " [-0.0326]\n",
      " [-0.0281]\n",
      " [ 0.1598]\n",
      " [ 0.2558]\n",
      " [ 0.0603]\n",
      " [ 0.067 ]\n",
      " [ 0.1337]\n",
      " [ 0.1668]]\n"
     ]
    }
   ],
   "source": [
    "# Beta_T for Fast Gradient Descent\n",
    "beta_T = beta_results_fg[len(beta_results_fg)-1]\n",
    "print(beta_T.round(4))"
   ]
  },
  {
   "cell_type": "code",
   "execution_count": 20,
   "metadata": {},
   "outputs": [
    {
     "data": {
      "text/plain": [
       "0.4506855378615487"
      ]
     },
     "execution_count": 20,
     "metadata": {},
     "output_type": "execute_result"
    }
   ],
   "source": [
    "# Objective Value for Fast Gradient Descent\n",
    "obj_value_results_fg[len(obj_value_results_fg)-1]"
   ]
  },
  {
   "cell_type": "code",
   "execution_count": 21,
   "metadata": {},
   "outputs": [
    {
     "data": {
      "image/png": "[encoded data removed]",
      "text/plain": [
       "<Figure size 720x576 with 1 Axes>"
      ]
     },
     "metadata": {},
     "output_type": "display_data"
    }
   ],
   "source": [
    "plt.figure(figsize=(10,8))\n",
    "plt.plot(range(0, len(obj_value_results)),obj_value_results)\n",
    "plt.plot(range(0, len(obj_value_results_fg)),obj_value_results_fg)\n",
    "plt.legend(['Gradient Descent', 'Fast Gradient'], loc='upper right')\n",
    "plt.title('Objective Value vs. Iteration t', fontsize=16)\n",
    "plt.xlabel('Iteration t')\n",
    "plt.ylabel('Objective Value F(Beta)');"
   ]
  },
  {
   "cell_type": "markdown",
   "metadata": {},
   "source": [
    "We see in the above graph that the Fast Gradient (24 iterations) converages slightly faster than the Gradient Descent algorithm (25 iterations). I suspect the convergence was relatively fast for this particular problem, and so the speed increase of the Fast Gradient wasn't fully realized. They both converge to the objective value of ~0.45 fairly quickly (within 5 iterations)."
   ]
  },
  {
   "cell_type": "markdown",
   "metadata": {},
   "source": [
    "### 1.5 Using sklearn.LogisticRegression"
   ]
  },
  {
   "cell_type": "code",
   "execution_count": 22,
   "metadata": {},
   "outputs": [
    {
     "name": "stderr",
     "output_type": "stream",
     "text": [
      "/home/ubuntu/anaconda3/envs/python3/lib/python3.6/site-packages/sklearn/utils/validation.py:578: DataConversionWarning: A column-vector y was passed when a 1d array was expected. Please change the shape of y to (n_samples, ), for example using ravel().\n",
      "  y = column_or_1d(y, warn=True)\n"
     ]
    },
    {
     "data": {
      "text/plain": [
       "0.893136403127715"
      ]
     },
     "execution_count": 22,
     "metadata": {},
     "output_type": "execute_result"
    }
   ],
   "source": [
    "from sklearn.linear_model import LogisticRegression\n",
    "\n",
    "classifier = LogisticRegression(penalty='l2', C=1/(2*lamb*len(X_train)), fit_intercept=False)\n",
    "classifier.fit(X_train, y_train)\n",
    "\n",
    "classifier.score(X_test, y_test)"
   ]
  },
  {
   "cell_type": "code",
   "execution_count": 23,
   "metadata": {
    "scrolled": true
   },
   "outputs": [
    {
     "name": "stdout",
     "output_type": "stream",
     "text": [
      "Beta_*\n",
      "[[ 0.0297]\n",
      " [-0.0222]\n",
      " [ 0.0867]\n",
      " [ 0.0588]\n",
      " [ 0.1754]\n",
      " [ 0.1213]\n",
      " [ 0.2948]\n",
      " [ 0.1322]\n",
      " [ 0.1226]\n",
      " [ 0.0508]\n",
      " [ 0.1394]\n",
      " [-0.0388]\n",
      " [ 0.0566]\n",
      " [ 0.0327]\n",
      " [ 0.1092]\n",
      " [ 0.1974]\n",
      " [ 0.1574]\n",
      " [ 0.1193]\n",
      " [ 0.115 ]\n",
      " [ 0.1292]\n",
      " [ 0.2358]\n",
      " [ 0.1014]\n",
      " [ 0.2503]\n",
      " [ 0.1533]\n",
      " [-0.1477]\n",
      " [-0.1045]\n",
      " [-0.1208]\n",
      " [-0.035 ]\n",
      " [-0.0501]\n",
      " [-0.0753]\n",
      " [-0.0327]\n",
      " [-0.0135]\n",
      " [-0.0791]\n",
      " [-0.0161]\n",
      " [-0.0566]\n",
      " [-0.0041]\n",
      " [-0.0806]\n",
      " [-0.0224]\n",
      " [-0.0579]\n",
      " [ 0.0155]\n",
      " [-0.0525]\n",
      " [-0.0966]\n",
      " [-0.0587]\n",
      " [-0.0665]\n",
      " [-0.1109]\n",
      " [-0.1104]\n",
      " [-0.0453]\n",
      " [-0.0598]\n",
      " [-0.0676]\n",
      " [-0.0326]\n",
      " [-0.0281]\n",
      " [ 0.1598]\n",
      " [ 0.2556]\n",
      " [ 0.0603]\n",
      " [ 0.067 ]\n",
      " [ 0.1337]\n",
      " [ 0.1668]]\n"
     ]
    }
   ],
   "source": [
    "beta_star = classifier.coef_.reshape(-1,1)\n",
    "print('Beta_*')\n",
    "print(beta_star.round(4))"
   ]
  },
  {
   "cell_type": "code",
   "execution_count": 24,
   "metadata": {},
   "outputs": [
    {
     "name": "stdout",
     "output_type": "stream",
     "text": [
      "F(Beta_*)\n",
      "0.4506855262964716\n"
     ]
    }
   ],
   "source": [
    "print('F(Beta_*)')\n",
    "print(computeobj(X_train, y_train, beta_star, lamb))"
   ]
  },
  {
   "cell_type": "code",
   "execution_count": null,
   "metadata": {},
   "outputs": [],
   "source": []
  },
  {
   "cell_type": "markdown",
   "metadata": {},
   "source": [
    "### 1.6 Comparing $\\beta_T$ with $\\beta^*$ using relative error\n",
    "Relative to $\\beta^*$"
   ]
  },
  {
   "cell_type": "code",
   "execution_count": 25,
   "metadata": {
    "scrolled": true
   },
   "outputs": [
    {
     "name": "stdout",
     "output_type": "stream",
     "text": [
      "Vector Difference of Beta\n",
      "[[-0.    ]\n",
      " [ 0.    ]\n",
      " [ 0.    ]\n",
      " [-0.    ]\n",
      " [-0.    ]\n",
      " [-0.    ]\n",
      " [ 0.0001]\n",
      " [-0.    ]\n",
      " [-0.    ]\n",
      " [ 0.    ]\n",
      " [-0.0001]\n",
      " [ 0.    ]\n",
      " [-0.    ]\n",
      " [-0.    ]\n",
      " [-0.    ]\n",
      " [-0.    ]\n",
      " [-0.0001]\n",
      " [-0.    ]\n",
      " [ 0.    ]\n",
      " [ 0.    ]\n",
      " [-0.    ]\n",
      " [ 0.    ]\n",
      " [ 0.0001]\n",
      " [ 0.    ]\n",
      " [-0.0001]\n",
      " [ 0.    ]\n",
      " [-0.    ]\n",
      " [ 0.    ]\n",
      " [ 0.    ]\n",
      " [-0.    ]\n",
      " [-0.    ]\n",
      " [ 0.    ]\n",
      " [-0.    ]\n",
      " [ 0.    ]\n",
      " [-0.    ]\n",
      " [ 0.0001]\n",
      " [ 0.    ]\n",
      " [ 0.    ]\n",
      " [ 0.    ]\n",
      " [-0.    ]\n",
      " [ 0.    ]\n",
      " [-0.    ]\n",
      " [ 0.    ]\n",
      " [-0.    ]\n",
      " [-0.    ]\n",
      " [-0.    ]\n",
      " [ 0.    ]\n",
      " [-0.    ]\n",
      " [-0.    ]\n",
      " [-0.    ]\n",
      " [-0.    ]\n",
      " [ 0.    ]\n",
      " [ 0.0001]\n",
      " [ 0.    ]\n",
      " [-0.    ]\n",
      " [ 0.    ]\n",
      " [-0.    ]]\n"
     ]
    }
   ],
   "source": [
    "print('Vector Difference of Beta')\n",
    "print((beta_T - beta_star).round(4))"
   ]
  },
  {
   "cell_type": "code",
   "execution_count": 26,
   "metadata": {},
   "outputs": [
    {
     "name": "stdout",
     "output_type": "stream",
     "text": [
      "Relative Error of Beta\n",
      "0.00033329243208579537\n"
     ]
    }
   ],
   "source": [
    "print('Relative Error of Beta')\n",
    "print(np.sqrt(np.sum((beta_T - beta_star)**2))/np.sqrt(np.sum(beta_star**2)))"
   ]
  },
  {
   "cell_type": "code",
   "execution_count": 27,
   "metadata": {},
   "outputs": [
    {
     "name": "stdout",
     "output_type": "stream",
     "text": [
      "Difference of Objective Value\n",
      "1.156507711819188e-08\n"
     ]
    }
   ],
   "source": [
    "print('Difference of Objective Value')\n",
    "print(computeobj(X_train, y_train, beta_T, lamb)-computeobj(X_train, y_train, beta_star, lamb))"
   ]
  },
  {
   "cell_type": "code",
   "execution_count": 28,
   "metadata": {},
   "outputs": [
    {
     "name": "stdout",
     "output_type": "stream",
     "text": [
      "Relative Difference of Objective Value\n",
      "2.566107949644715e-08\n"
     ]
    }
   ],
   "source": [
    "print('Relative Difference of Objective Value')\n",
    "print((computeobj(X_train, y_train, beta_T, lamb)-computeobj(X_train, y_train, beta_star, lamb))/\n",
    "      computeobj(X_train, y_train, beta_star, lamb))"
   ]
  },
  {
   "cell_type": "markdown",
   "metadata": {},
   "source": [
    "We see above that our Beta and Objective Values obtained by the Fast Gradient almost exactly match those obtained by sklearn.Logistic Regression, giving me confidence that the fast gradient algorithm was implemented correctly."
   ]
  },
  {
   "cell_type": "markdown",
   "metadata": {},
   "source": [
    "### 1.7: Run CV to find optimal value of $\\lambda$"
   ]
  },
  {
   "cell_type": "code",
   "execution_count": 29,
   "metadata": {
    "scrolled": true
   },
   "outputs": [
    {
     "name": "stderr",
     "output_type": "stream",
     "text": [
      "/home/ubuntu/anaconda3/envs/python3/lib/python3.6/site-packages/sklearn/utils/validation.py:578: DataConversionWarning: A column-vector y was passed when a 1d array was expected. Please change the shape of y to (n_samples, ), for example using ravel().\n",
      "  y = column_or_1d(y, warn=True)\n",
      "/home/ubuntu/anaconda3/envs/python3/lib/python3.6/site-packages/sklearn/utils/validation.py:578: DataConversionWarning: A column-vector y was passed when a 1d array was expected. Please change the shape of y to (n_samples, ), for example using ravel().\n",
      "  y = column_or_1d(y, warn=True)\n",
      "/home/ubuntu/anaconda3/envs/python3/lib/python3.6/site-packages/sklearn/utils/validation.py:578: DataConversionWarning: A column-vector y was passed when a 1d array was expected. Please change the shape of y to (n_samples, ), for example using ravel().\n",
      "  y = column_or_1d(y, warn=True)\n",
      "/home/ubuntu/anaconda3/envs/python3/lib/python3.6/site-packages/sklearn/utils/validation.py:578: DataConversionWarning: A column-vector y was passed when a 1d array was expected. Please change the shape of y to (n_samples, ), for example using ravel().\n",
      "  y = column_or_1d(y, warn=True)\n",
      "/home/ubuntu/anaconda3/envs/python3/lib/python3.6/site-packages/sklearn/utils/validation.py:578: DataConversionWarning: A column-vector y was passed when a 1d array was expected. Please change the shape of y to (n_samples, ), for example using ravel().\n",
      "  y = column_or_1d(y, warn=True)\n",
      "/home/ubuntu/anaconda3/envs/python3/lib/python3.6/site-packages/sklearn/utils/validation.py:578: DataConversionWarning: A column-vector y was passed when a 1d array was expected. Please change the shape of y to (n_samples, ), for example using ravel().\n",
      "  y = column_or_1d(y, warn=True)\n",
      "/home/ubuntu/anaconda3/envs/python3/lib/python3.6/site-packages/sklearn/utils/validation.py:578: DataConversionWarning: A column-vector y was passed when a 1d array was expected. Please change the shape of y to (n_samples, ), for example using ravel().\n",
      "  y = column_or_1d(y, warn=True)\n",
      "/home/ubuntu/anaconda3/envs/python3/lib/python3.6/site-packages/sklearn/utils/validation.py:578: DataConversionWarning: A column-vector y was passed when a 1d array was expected. Please change the shape of y to (n_samples, ), for example using ravel().\n",
      "  y = column_or_1d(y, warn=True)\n",
      "/home/ubuntu/anaconda3/envs/python3/lib/python3.6/site-packages/sklearn/utils/validation.py:578: DataConversionWarning: A column-vector y was passed when a 1d array was expected. Please change the shape of y to (n_samples, ), for example using ravel().\n",
      "  y = column_or_1d(y, warn=True)\n",
      "/home/ubuntu/anaconda3/envs/python3/lib/python3.6/site-packages/sklearn/utils/validation.py:578: DataConversionWarning: A column-vector y was passed when a 1d array was expected. Please change the shape of y to (n_samples, ), for example using ravel().\n",
      "  y = column_or_1d(y, warn=True)\n",
      "/home/ubuntu/anaconda3/envs/python3/lib/python3.6/site-packages/sklearn/utils/validation.py:578: DataConversionWarning: A column-vector y was passed when a 1d array was expected. Please change the shape of y to (n_samples, ), for example using ravel().\n",
      "  y = column_or_1d(y, warn=True)\n",
      "/home/ubuntu/anaconda3/envs/python3/lib/python3.6/site-packages/sklearn/utils/validation.py:578: DataConversionWarning: A column-vector y was passed when a 1d array was expected. Please change the shape of y to (n_samples, ), for example using ravel().\n",
      "  y = column_or_1d(y, warn=True)\n",
      "/home/ubuntu/anaconda3/envs/python3/lib/python3.6/site-packages/sklearn/utils/validation.py:578: DataConversionWarning: A column-vector y was passed when a 1d array was expected. Please change the shape of y to (n_samples, ), for example using ravel().\n",
      "  y = column_or_1d(y, warn=True)\n",
      "/home/ubuntu/anaconda3/envs/python3/lib/python3.6/site-packages/sklearn/utils/validation.py:578: DataConversionWarning: A column-vector y was passed when a 1d array was expected. Please change the shape of y to (n_samples, ), for example using ravel().\n",
      "  y = column_or_1d(y, warn=True)\n",
      "/home/ubuntu/anaconda3/envs/python3/lib/python3.6/site-packages/sklearn/utils/validation.py:578: DataConversionWarning: A column-vector y was passed when a 1d array was expected. Please change the shape of y to (n_samples, ), for example using ravel().\n",
      "  y = column_or_1d(y, warn=True)\n",
      "/home/ubuntu/anaconda3/envs/python3/lib/python3.6/site-packages/sklearn/utils/validation.py:578: DataConversionWarning: A column-vector y was passed when a 1d array was expected. Please change the shape of y to (n_samples, ), for example using ravel().\n",
      "  y = column_or_1d(y, warn=True)\n",
      "/home/ubuntu/anaconda3/envs/python3/lib/python3.6/site-packages/sklearn/utils/validation.py:578: DataConversionWarning: A column-vector y was passed when a 1d array was expected. Please change the shape of y to (n_samples, ), for example using ravel().\n",
      "  y = column_or_1d(y, warn=True)\n",
      "/home/ubuntu/anaconda3/envs/python3/lib/python3.6/site-packages/sklearn/utils/validation.py:578: DataConversionWarning: A column-vector y was passed when a 1d array was expected. Please change the shape of y to (n_samples, ), for example using ravel().\n",
      "  y = column_or_1d(y, warn=True)\n",
      "/home/ubuntu/anaconda3/envs/python3/lib/python3.6/site-packages/sklearn/utils/validation.py:578: DataConversionWarning: A column-vector y was passed when a 1d array was expected. Please change the shape of y to (n_samples, ), for example using ravel().\n",
      "  y = column_or_1d(y, warn=True)\n",
      "/home/ubuntu/anaconda3/envs/python3/lib/python3.6/site-packages/sklearn/utils/validation.py:578: DataConversionWarning: A column-vector y was passed when a 1d array was expected. Please change the shape of y to (n_samples, ), for example using ravel().\n",
      "  y = column_or_1d(y, warn=True)\n",
      "/home/ubuntu/anaconda3/envs/python3/lib/python3.6/site-packages/sklearn/utils/validation.py:578: DataConversionWarning: A column-vector y was passed when a 1d array was expected. Please change the shape of y to (n_samples, ), for example using ravel().\n",
      "  y = column_or_1d(y, warn=True)\n",
      "/home/ubuntu/anaconda3/envs/python3/lib/python3.6/site-packages/sklearn/utils/validation.py:578: DataConversionWarning: A column-vector y was passed when a 1d array was expected. Please change the shape of y to (n_samples, ), for example using ravel().\n",
      "  y = column_or_1d(y, warn=True)\n",
      "/home/ubuntu/anaconda3/envs/python3/lib/python3.6/site-packages/sklearn/utils/validation.py:578: DataConversionWarning: A column-vector y was passed when a 1d array was expected. Please change the shape of y to (n_samples, ), for example using ravel().\n",
      "  y = column_or_1d(y, warn=True)\n",
      "/home/ubuntu/anaconda3/envs/python3/lib/python3.6/site-packages/sklearn/utils/validation.py:578: DataConversionWarning: A column-vector y was passed when a 1d array was expected. Please change the shape of y to (n_samples, ), for example using ravel().\n",
      "  y = column_or_1d(y, warn=True)\n",
      "/home/ubuntu/anaconda3/envs/python3/lib/python3.6/site-packages/sklearn/utils/validation.py:578: DataConversionWarning: A column-vector y was passed when a 1d array was expected. Please change the shape of y to (n_samples, ), for example using ravel().\n",
      "  y = column_or_1d(y, warn=True)\n",
      "/home/ubuntu/anaconda3/envs/python3/lib/python3.6/site-packages/sklearn/utils/validation.py:578: DataConversionWarning: A column-vector y was passed when a 1d array was expected. Please change the shape of y to (n_samples, ), for example using ravel().\n",
      "  y = column_or_1d(y, warn=True)\n",
      "/home/ubuntu/anaconda3/envs/python3/lib/python3.6/site-packages/sklearn/utils/validation.py:578: DataConversionWarning: A column-vector y was passed when a 1d array was expected. Please change the shape of y to (n_samples, ), for example using ravel().\n",
      "  y = column_or_1d(y, warn=True)\n",
      "/home/ubuntu/anaconda3/envs/python3/lib/python3.6/site-packages/sklearn/utils/validation.py:578: DataConversionWarning: A column-vector y was passed when a 1d array was expected. Please change the shape of y to (n_samples, ), for example using ravel().\n",
      "  y = column_or_1d(y, warn=True)\n",
      "/home/ubuntu/anaconda3/envs/python3/lib/python3.6/site-packages/sklearn/utils/validation.py:578: DataConversionWarning: A column-vector y was passed when a 1d array was expected. Please change the shape of y to (n_samples, ), for example using ravel().\n",
      "  y = column_or_1d(y, warn=True)\n",
      "/home/ubuntu/anaconda3/envs/python3/lib/python3.6/site-packages/sklearn/utils/validation.py:578: DataConversionWarning: A column-vector y was passed when a 1d array was expected. Please change the shape of y to (n_samples, ), for example using ravel().\n",
      "  y = column_or_1d(y, warn=True)\n"
     ]
    },
    {
     "name": "stderr",
     "output_type": "stream",
     "text": [
      "/home/ubuntu/anaconda3/envs/python3/lib/python3.6/site-packages/sklearn/utils/validation.py:578: DataConversionWarning: A column-vector y was passed when a 1d array was expected. Please change the shape of y to (n_samples, ), for example using ravel().\n",
      "  y = column_or_1d(y, warn=True)\n"
     ]
    }
   ],
   "source": [
    "from sklearn.model_selection import GridSearchCV\n",
    "\n",
    "# Create a classifier\n",
    "classifier = LogisticRegression()\n",
    "parameters = {'C':[1/(len(X_train)*2*10**i) for i in range(-5, 1)]}\n",
    "clf = GridSearchCV(classifier, parameters, cv=5)\n",
    "\n",
    "# We learn the model on the training set\n",
    "clf.fit(X_train, y_train)\n",
    "\n",
    "# Now predict the spam types on the test set\n",
    "classifier_predicted = clf.predict(X_test)\n",
    "\n"
   ]
  },
  {
   "cell_type": "code",
   "execution_count": 30,
   "metadata": {},
   "outputs": [
    {
     "name": "stdout",
     "output_type": "stream",
     "text": [
      "Best C: 14.492753623188404\n",
      "Best Lamba:  1e-05\n",
      "Accuracy: 90.36%\n"
     ]
    }
   ],
   "source": [
    "print(\"Best C:\", clf.best_params_['C'])\n",
    "print(\"Best Lamba: \",1/(clf.best_params_['C']*len(X_train)*2))\n",
    "print(\"Accuracy: {:.2f}%\".format(np.mean(y_test.reshape(1,-1) == classifier_predicted)*100))"
   ]
  },
  {
   "cell_type": "markdown",
   "metadata": {},
   "source": [
    "There is no significant improvement in accuracy for any smaller values of $\\lambda < 0.1$, so we will go with $\\lambda = 0.1$ as the optimal value. See above for the Beta and Objective values."
   ]
  },
  {
   "cell_type": "markdown",
   "metadata": {},
   "source": [
    "### 1.8 Misclassification Error"
   ]
  },
  {
   "cell_type": "code",
   "execution_count": 8,
   "metadata": {},
   "outputs": [],
   "source": [
    "def misclassificationerror(y, x, b):\n",
    "    return 1 - np.mean(\n",
    "        np.fromiter(map(lambda p: 1 if p >= 0.5 else -1, 1/(1+np.exp(-x@b))), \n",
    "                    dtype=np.int).reshape(-1,1) == y)"
   ]
  },
  {
   "cell_type": "code",
   "execution_count": 32,
   "metadata": {},
   "outputs": [
    {
     "data": {
      "image/png": "[encoded data removed]",
      "text/plain": [
       "<Figure size 720x576 with 1 Axes>"
      ]
     },
     "metadata": {},
     "output_type": "display_data"
    }
   ],
   "source": [
    "plt.figure(figsize=(10,8))\n",
    "plt.plot(range(0,len(beta_results)),list(map(lambda b: misclassificationerror(y_train,X_train,b),beta_results)))\n",
    "plt.plot(range(0,len(beta_results_fg)),list(map(lambda b: misclassificationerror(y_train,X_train,b),beta_results_fg)))\n",
    "plt.legend(['Gradient Descent', 'Fast Gradient'], loc='upper right')\n",
    "plt.title('Misclassification Error vs. Iteration t (Train Data)')\n",
    "plt.xlabel('Iteration t')\n",
    "plt.ylabel('Misclassification Error');"
   ]
  },
  {
   "cell_type": "markdown",
   "metadata": {},
   "source": [
    "The above plot shows the misclassification error vs. iteration, for the Fast Gradient vs Gradient Descent on the Training Data. They both appear to show similar misclassification rates, with the fast gradient having slightly lower error rates slightly sooner."
   ]
  },
  {
   "cell_type": "code",
   "execution_count": 33,
   "metadata": {
    "scrolled": false
   },
   "outputs": [
    {
     "data": {
      "image/png": "[encoded data removed]",
      "text/plain": [
       "<Figure size 720x576 with 1 Axes>"
      ]
     },
     "metadata": {},
     "output_type": "display_data"
    }
   ],
   "source": [
    "plt.figure(figsize=(10,8))\n",
    "plt.plot(range(0,len(beta_results)),list(map(lambda b: misclassificationerror(y_test,X_test,b),beta_results)))\n",
    "plt.plot(range(0,len(beta_results_fg)),list(map(lambda b: misclassificationerror(y_test,X_test,b),beta_results_fg)))\n",
    "plt.legend(['Gradient Descent', 'Fast Gradient'], loc='upper right')\n",
    "plt.title('Misclassification Error vs. Iteration t (Test Data)', fontsize=16)\n",
    "plt.xlabel('Iteration t')\n",
    "plt.ylabel('Misclassification Error');"
   ]
  },
  {
   "cell_type": "markdown",
   "metadata": {},
   "source": [
    "The above plot shows the misclassification error vs. iteration, for the Fast Gradient vs Gradient Descent on the Test Data. They both appear to show similar misclassification rates, with the fast gradient having slightly lower error rates slightly sooner."
   ]
  },
  {
   "cell_type": "markdown",
   "metadata": {},
   "source": [
    "## Exercise 2"
   ]
  },
  {
   "cell_type": "markdown",
   "metadata": {},
   "source": [
    "(a) As $\\lambda$ increases from 0, we would expect the misclassification error to (ii) decrease initially, and then eventually start increasing in a U shape. This is because as $\\lambda$ increases from 0 (penalty parameter increase), the features with low predictive power will become more insignificant. Thus, the model becomes better at generalizing (avoids overfitting) to the test dataset. The misclassification error rate is at a minimum at this point. However, if $\\lambda$ becomes too large, the penalty parameter is too great, and even critical features become insignificant in the model. At this point, the misclassification error grows again.\n"
   ]
  },
  {
   "cell_type": "markdown",
   "metadata": {},
   "source": [
    "(b) As $\\lambda$ increases from 0, we would expect the misclassification error to (iii) steadily increase. This is because the model becomes progressively worse at fitting to the training dataset, so the error steadily increases. \n"
   ]
  },
  {
   "cell_type": "markdown",
   "metadata": {},
   "source": [
    "## Exercise 3"
   ]
  },
  {
   "cell_type": "markdown",
   "metadata": {},
   "source": [
    "CPU Version\n",
    "- Fitting time: 1.196605\n",
    "- Testing time: 993.196478\n",
    "\n",
    "GPU Version\n",
    "- Fitting time: 0.964353\n",
    "- Testing time: 45.230758\n",
    "\n",
    "URL\n",
    "- https://s3.amazonaws.com/data558geoffli/hw3/output.txt\n",
    "\n",
    "\n",
    "How long it took to complete exercise\n",
    "- After getting through the AWS tutorial, around 15-30 min (including run time).\n"
   ]
  },
  {
   "cell_type": "markdown",
   "metadata": {},
   "source": [
    "## Exercise 4"
   ]
  },
  {
   "cell_type": "markdown",
   "metadata": {},
   "source": [
    "### 4.1: Loading and processing data"
   ]
  },
  {
   "cell_type": "code",
   "execution_count": 9,
   "metadata": {},
   "outputs": [],
   "source": [
    "path = './q4/'"
   ]
  },
  {
   "cell_type": "code",
   "execution_count": 10,
   "metadata": {},
   "outputs": [],
   "source": [
    "X_train = np.load(path+'train_features.npy')\n",
    "y_train = np.load(path+'train_labels.npy')\n",
    "\n",
    "X_val = np.load(path+'val_features.npy')\n",
    "y_val = np.load(path+'val_labels.npy')\n",
    "\n",
    "X_test = np.load(path+'test_features.npy')"
   ]
  },
  {
   "cell_type": "code",
   "execution_count": 11,
   "metadata": {},
   "outputs": [],
   "source": [
    "from sklearn import preprocessing\n",
    "\n",
    "# Standardize the data\n",
    "scaler = preprocessing.StandardScaler().fit(X_train)\n",
    "X_train = scaler.transform(X_train)\n",
    "X_val = scaler.transform(X_val)\n",
    "X_test = scaler.transform(X_test)"
   ]
  },
  {
   "cell_type": "code",
   "execution_count": 12,
   "metadata": {},
   "outputs": [],
   "source": [
    "# X_train = X_train[list(range(0,500))+list(range(500,1000))]\n",
    "# y_train = y_train[list(range(0,500))+list(range(500,1000))]"
   ]
  },
  {
   "cell_type": "code",
   "execution_count": 13,
   "metadata": {
    "scrolled": true
   },
   "outputs": [],
   "source": [
    "y_train = np.fromiter(map(lambda n: 1 if n == 0 else -1, y_train), dtype=int).reshape(-1, 1)"
   ]
  },
  {
   "cell_type": "code",
   "execution_count": 14,
   "metadata": {},
   "outputs": [],
   "source": [
    "y_val = np.fromiter(map(lambda n: 1 if n == 0 else -1, y_val), dtype=int).reshape(-1, 1)"
   ]
  },
  {
   "cell_type": "markdown",
   "metadata": {},
   "source": [
    "### 4.2: Training Classifier using Fast Gradient on Extracted Features, classes 0 and 1"
   ]
  },
  {
   "cell_type": "code",
   "execution_count": 15,
   "metadata": {},
   "outputs": [
    {
     "name": "stderr",
     "output_type": "stream",
     "text": [
      "/home/ubuntu/anaconda3/lib/python3.6/site-packages/ipykernel_launcher.py:2: RuntimeWarning: overflow encountered in exp\n",
      "  \n"
     ]
    }
   ],
   "source": [
    "init_beta = np.zeros(X_train.shape[1]).reshape(-1, 1)\n",
    "init_theta = np.zeros(X_train.shape[1]).reshape(-1, 1)\n",
    "lamb = 1\n",
    "init_eta = initstepsize(X_train, lamb)\n",
    "target_accuracy = 10**-4\n",
    "\n",
    "comp_beta = fastgradalgo(init_beta, init_theta, init_eta, target_accuracy)\n",
    "\n",
    "# Create array of Objective Values at each iteration\n",
    "comp_obj_vals = list(map(lambda bt: computeobj(X_train, y_train, bt, lamb), comp_beta))"
   ]
  },
  {
   "cell_type": "code",
   "execution_count": 16,
   "metadata": {},
   "outputs": [
    {
     "data": {
      "text/plain": [
       "0.19020000000000004"
      ]
     },
     "execution_count": 16,
     "metadata": {},
     "output_type": "execute_result"
    }
   ],
   "source": [
    "misclassificationerror(y_train, X_train, comp_beta[len(comp_beta)-1])"
   ]
  },
  {
   "cell_type": "code",
   "execution_count": 17,
   "metadata": {},
   "outputs": [
    {
     "data": {
      "text/plain": [
       "0.19099999999999995"
      ]
     },
     "execution_count": 17,
     "metadata": {},
     "output_type": "execute_result"
    }
   ],
   "source": [
    "misclassificationerror(y_val, X_val, comp_beta[len(comp_beta)-1])"
   ]
  },
  {
   "cell_type": "code",
   "execution_count": 18,
   "metadata": {},
   "outputs": [
    {
     "data": {
      "image/png": "[encoded data removed]",
      "text/plain": [
       "<Figure size 720x576 with 1 Axes>"
      ]
     },
     "metadata": {},
     "output_type": "display_data"
    }
   ],
   "source": [
    "plt.figure(figsize=(10,8))\n",
    "plt.plot(range(0,len(comp_beta)),list(map(lambda b: misclassificationerror(y_train,X_train,b),comp_beta)))\n",
    "plt.plot(range(0,len(comp_beta)),list(map(lambda b: misclassificationerror(y_val,X_val,b),comp_beta)))\n",
    "plt.legend(['Training data', 'Validation data'], loc='upper right')\n",
    "plt.title('Misclassification Error vs. Iteration t')\n",
    "plt.xlabel('Iteration t')\n",
    "plt.ylabel('Misclassification Error');"
   ]
  },
  {
   "cell_type": "markdown",
   "metadata": {},
   "source": [
    "### 4.3 Run CV to find the best $\\lambda$"
   ]
  },
  {
   "cell_type": "code",
   "execution_count": 19,
   "metadata": {
    "scrolled": true
   },
   "outputs": [
    {
     "name": "stderr",
     "output_type": "stream",
     "text": [
      "/home/ubuntu/anaconda3/lib/python3.6/site-packages/sklearn/utils/validation.py:578: DataConversionWarning: A column-vector y was passed when a 1d array was expected. Please change the shape of y to (n_samples, ), for example using ravel().\n",
      "  y = column_or_1d(y, warn=True)\n",
      "/home/ubuntu/anaconda3/lib/python3.6/site-packages/sklearn/utils/validation.py:578: DataConversionWarning: A column-vector y was passed when a 1d array was expected. Please change the shape of y to (n_samples, ), for example using ravel().\n",
      "  y = column_or_1d(y, warn=True)\n",
      "/home/ubuntu/anaconda3/lib/python3.6/site-packages/sklearn/utils/validation.py:578: DataConversionWarning: A column-vector y was passed when a 1d array was expected. Please change the shape of y to (n_samples, ), for example using ravel().\n",
      "  y = column_or_1d(y, warn=True)\n",
      "/home/ubuntu/anaconda3/lib/python3.6/site-packages/sklearn/utils/validation.py:578: DataConversionWarning: A column-vector y was passed when a 1d array was expected. Please change the shape of y to (n_samples, ), for example using ravel().\n",
      "  y = column_or_1d(y, warn=True)\n",
      "/home/ubuntu/anaconda3/lib/python3.6/site-packages/sklearn/utils/validation.py:578: DataConversionWarning: A column-vector y was passed when a 1d array was expected. Please change the shape of y to (n_samples, ), for example using ravel().\n",
      "  y = column_or_1d(y, warn=True)\n",
      "/home/ubuntu/anaconda3/lib/python3.6/site-packages/sklearn/utils/validation.py:578: DataConversionWarning: A column-vector y was passed when a 1d array was expected. Please change the shape of y to (n_samples, ), for example using ravel().\n",
      "  y = column_or_1d(y, warn=True)\n",
      "/home/ubuntu/anaconda3/lib/python3.6/site-packages/sklearn/utils/validation.py:578: DataConversionWarning: A column-vector y was passed when a 1d array was expected. Please change the shape of y to (n_samples, ), for example using ravel().\n",
      "  y = column_or_1d(y, warn=True)\n",
      "/home/ubuntu/anaconda3/lib/python3.6/site-packages/sklearn/utils/validation.py:578: DataConversionWarning: A column-vector y was passed when a 1d array was expected. Please change the shape of y to (n_samples, ), for example using ravel().\n",
      "  y = column_or_1d(y, warn=True)\n",
      "/home/ubuntu/anaconda3/lib/python3.6/site-packages/sklearn/utils/validation.py:578: DataConversionWarning: A column-vector y was passed when a 1d array was expected. Please change the shape of y to (n_samples, ), for example using ravel().\n",
      "  y = column_or_1d(y, warn=True)\n",
      "/home/ubuntu/anaconda3/lib/python3.6/site-packages/sklearn/utils/validation.py:578: DataConversionWarning: A column-vector y was passed when a 1d array was expected. Please change the shape of y to (n_samples, ), for example using ravel().\n",
      "  y = column_or_1d(y, warn=True)\n",
      "/home/ubuntu/anaconda3/lib/python3.6/site-packages/sklearn/utils/validation.py:578: DataConversionWarning: A column-vector y was passed when a 1d array was expected. Please change the shape of y to (n_samples, ), for example using ravel().\n",
      "  y = column_or_1d(y, warn=True)\n",
      "/home/ubuntu/anaconda3/lib/python3.6/site-packages/sklearn/utils/validation.py:578: DataConversionWarning: A column-vector y was passed when a 1d array was expected. Please change the shape of y to (n_samples, ), for example using ravel().\n",
      "  y = column_or_1d(y, warn=True)\n",
      "/home/ubuntu/anaconda3/lib/python3.6/site-packages/sklearn/utils/validation.py:578: DataConversionWarning: A column-vector y was passed when a 1d array was expected. Please change the shape of y to (n_samples, ), for example using ravel().\n",
      "  y = column_or_1d(y, warn=True)\n",
      "/home/ubuntu/anaconda3/lib/python3.6/site-packages/sklearn/utils/validation.py:578: DataConversionWarning: A column-vector y was passed when a 1d array was expected. Please change the shape of y to (n_samples, ), for example using ravel().\n",
      "  y = column_or_1d(y, warn=True)\n",
      "/home/ubuntu/anaconda3/lib/python3.6/site-packages/sklearn/utils/validation.py:578: DataConversionWarning: A column-vector y was passed when a 1d array was expected. Please change the shape of y to (n_samples, ), for example using ravel().\n",
      "  y = column_or_1d(y, warn=True)\n",
      "/home/ubuntu/anaconda3/lib/python3.6/site-packages/sklearn/utils/validation.py:578: DataConversionWarning: A column-vector y was passed when a 1d array was expected. Please change the shape of y to (n_samples, ), for example using ravel().\n",
      "  y = column_or_1d(y, warn=True)\n",
      "/home/ubuntu/anaconda3/lib/python3.6/site-packages/sklearn/utils/validation.py:578: DataConversionWarning: A column-vector y was passed when a 1d array was expected. Please change the shape of y to (n_samples, ), for example using ravel().\n",
      "  y = column_or_1d(y, warn=True)\n",
      "/home/ubuntu/anaconda3/lib/python3.6/site-packages/sklearn/utils/validation.py:578: DataConversionWarning: A column-vector y was passed when a 1d array was expected. Please change the shape of y to (n_samples, ), for example using ravel().\n",
      "  y = column_or_1d(y, warn=True)\n",
      "/home/ubuntu/anaconda3/lib/python3.6/site-packages/sklearn/utils/validation.py:578: DataConversionWarning: A column-vector y was passed when a 1d array was expected. Please change the shape of y to (n_samples, ), for example using ravel().\n",
      "  y = column_or_1d(y, warn=True)\n",
      "/home/ubuntu/anaconda3/lib/python3.6/site-packages/sklearn/utils/validation.py:578: DataConversionWarning: A column-vector y was passed when a 1d array was expected. Please change the shape of y to (n_samples, ), for example using ravel().\n",
      "  y = column_or_1d(y, warn=True)\n",
      "/home/ubuntu/anaconda3/lib/python3.6/site-packages/sklearn/utils/validation.py:578: DataConversionWarning: A column-vector y was passed when a 1d array was expected. Please change the shape of y to (n_samples, ), for example using ravel().\n",
      "  y = column_or_1d(y, warn=True)\n",
      "/home/ubuntu/anaconda3/lib/python3.6/site-packages/sklearn/utils/validation.py:578: DataConversionWarning: A column-vector y was passed when a 1d array was expected. Please change the shape of y to (n_samples, ), for example using ravel().\n",
      "  y = column_or_1d(y, warn=True)\n",
      "/home/ubuntu/anaconda3/lib/python3.6/site-packages/sklearn/utils/validation.py:578: DataConversionWarning: A column-vector y was passed when a 1d array was expected. Please change the shape of y to (n_samples, ), for example using ravel().\n",
      "  y = column_or_1d(y, warn=True)\n",
      "/home/ubuntu/anaconda3/lib/python3.6/site-packages/sklearn/utils/validation.py:578: DataConversionWarning: A column-vector y was passed when a 1d array was expected. Please change the shape of y to (n_samples, ), for example using ravel().\n",
      "  y = column_or_1d(y, warn=True)\n",
      "/home/ubuntu/anaconda3/lib/python3.6/site-packages/sklearn/utils/validation.py:578: DataConversionWarning: A column-vector y was passed when a 1d array was expected. Please change the shape of y to (n_samples, ), for example using ravel().\n",
      "  y = column_or_1d(y, warn=True)\n",
      "/home/ubuntu/anaconda3/lib/python3.6/site-packages/sklearn/utils/validation.py:578: DataConversionWarning: A column-vector y was passed when a 1d array was expected. Please change the shape of y to (n_samples, ), for example using ravel().\n",
      "  y = column_or_1d(y, warn=True)\n",
      "/home/ubuntu/anaconda3/lib/python3.6/site-packages/sklearn/utils/validation.py:578: DataConversionWarning: A column-vector y was passed when a 1d array was expected. Please change the shape of y to (n_samples, ), for example using ravel().\n",
      "  y = column_or_1d(y, warn=True)\n",
      "/home/ubuntu/anaconda3/lib/python3.6/site-packages/sklearn/utils/validation.py:578: DataConversionWarning: A column-vector y was passed when a 1d array was expected. Please change the shape of y to (n_samples, ), for example using ravel().\n",
      "  y = column_or_1d(y, warn=True)\n",
      "/home/ubuntu/anaconda3/lib/python3.6/site-packages/sklearn/utils/validation.py:578: DataConversionWarning: A column-vector y was passed when a 1d array was expected. Please change the shape of y to (n_samples, ), for example using ravel().\n",
      "  y = column_or_1d(y, warn=True)\n",
      "/home/ubuntu/anaconda3/lib/python3.6/site-packages/sklearn/utils/validation.py:578: DataConversionWarning: A column-vector y was passed when a 1d array was expected. Please change the shape of y to (n_samples, ), for example using ravel().\n",
      "  y = column_or_1d(y, warn=True)\n",
      "/home/ubuntu/anaconda3/lib/python3.6/site-packages/sklearn/utils/validation.py:578: DataConversionWarning: A column-vector y was passed when a 1d array was expected. Please change the shape of y to (n_samples, ), for example using ravel().\n",
      "  y = column_or_1d(y, warn=True)\n"
     ]
    },
    {
     "name": "stderr",
     "output_type": "stream",
     "text": [
      "/home/ubuntu/anaconda3/lib/python3.6/site-packages/sklearn/utils/validation.py:578: DataConversionWarning: A column-vector y was passed when a 1d array was expected. Please change the shape of y to (n_samples, ), for example using ravel().\n",
      "  y = column_or_1d(y, warn=True)\n",
      "/home/ubuntu/anaconda3/lib/python3.6/site-packages/sklearn/utils/validation.py:578: DataConversionWarning: A column-vector y was passed when a 1d array was expected. Please change the shape of y to (n_samples, ), for example using ravel().\n",
      "  y = column_or_1d(y, warn=True)\n",
      "/home/ubuntu/anaconda3/lib/python3.6/site-packages/sklearn/utils/validation.py:578: DataConversionWarning: A column-vector y was passed when a 1d array was expected. Please change the shape of y to (n_samples, ), for example using ravel().\n",
      "  y = column_or_1d(y, warn=True)\n",
      "/home/ubuntu/anaconda3/lib/python3.6/site-packages/sklearn/utils/validation.py:578: DataConversionWarning: A column-vector y was passed when a 1d array was expected. Please change the shape of y to (n_samples, ), for example using ravel().\n",
      "  y = column_or_1d(y, warn=True)\n",
      "/home/ubuntu/anaconda3/lib/python3.6/site-packages/sklearn/utils/validation.py:578: DataConversionWarning: A column-vector y was passed when a 1d array was expected. Please change the shape of y to (n_samples, ), for example using ravel().\n",
      "  y = column_or_1d(y, warn=True)\n",
      "/home/ubuntu/anaconda3/lib/python3.6/site-packages/sklearn/utils/validation.py:578: DataConversionWarning: A column-vector y was passed when a 1d array was expected. Please change the shape of y to (n_samples, ), for example using ravel().\n",
      "  y = column_or_1d(y, warn=True)\n",
      "/home/ubuntu/anaconda3/lib/python3.6/site-packages/sklearn/utils/validation.py:578: DataConversionWarning: A column-vector y was passed when a 1d array was expected. Please change the shape of y to (n_samples, ), for example using ravel().\n",
      "  y = column_or_1d(y, warn=True)\n",
      "/home/ubuntu/anaconda3/lib/python3.6/site-packages/sklearn/utils/validation.py:578: DataConversionWarning: A column-vector y was passed when a 1d array was expected. Please change the shape of y to (n_samples, ), for example using ravel().\n",
      "  y = column_or_1d(y, warn=True)\n",
      "/home/ubuntu/anaconda3/lib/python3.6/site-packages/sklearn/utils/validation.py:578: DataConversionWarning: A column-vector y was passed when a 1d array was expected. Please change the shape of y to (n_samples, ), for example using ravel().\n",
      "  y = column_or_1d(y, warn=True)\n",
      "/home/ubuntu/anaconda3/lib/python3.6/site-packages/sklearn/utils/validation.py:578: DataConversionWarning: A column-vector y was passed when a 1d array was expected. Please change the shape of y to (n_samples, ), for example using ravel().\n",
      "  y = column_or_1d(y, warn=True)\n",
      "/home/ubuntu/anaconda3/lib/python3.6/site-packages/sklearn/utils/validation.py:578: DataConversionWarning: A column-vector y was passed when a 1d array was expected. Please change the shape of y to (n_samples, ), for example using ravel().\n",
      "  y = column_or_1d(y, warn=True)\n",
      "/home/ubuntu/anaconda3/lib/python3.6/site-packages/sklearn/utils/validation.py:578: DataConversionWarning: A column-vector y was passed when a 1d array was expected. Please change the shape of y to (n_samples, ), for example using ravel().\n",
      "  y = column_or_1d(y, warn=True)\n",
      "/home/ubuntu/anaconda3/lib/python3.6/site-packages/sklearn/utils/validation.py:578: DataConversionWarning: A column-vector y was passed when a 1d array was expected. Please change the shape of y to (n_samples, ), for example using ravel().\n",
      "  y = column_or_1d(y, warn=True)\n",
      "/home/ubuntu/anaconda3/lib/python3.6/site-packages/sklearn/utils/validation.py:578: DataConversionWarning: A column-vector y was passed when a 1d array was expected. Please change the shape of y to (n_samples, ), for example using ravel().\n",
      "  y = column_or_1d(y, warn=True)\n",
      "/home/ubuntu/anaconda3/lib/python3.6/site-packages/sklearn/utils/validation.py:578: DataConversionWarning: A column-vector y was passed when a 1d array was expected. Please change the shape of y to (n_samples, ), for example using ravel().\n",
      "  y = column_or_1d(y, warn=True)\n",
      "/home/ubuntu/anaconda3/lib/python3.6/site-packages/sklearn/utils/validation.py:578: DataConversionWarning: A column-vector y was passed when a 1d array was expected. Please change the shape of y to (n_samples, ), for example using ravel().\n",
      "  y = column_or_1d(y, warn=True)\n",
      "/home/ubuntu/anaconda3/lib/python3.6/site-packages/sklearn/utils/validation.py:578: DataConversionWarning: A column-vector y was passed when a 1d array was expected. Please change the shape of y to (n_samples, ), for example using ravel().\n",
      "  y = column_or_1d(y, warn=True)\n",
      "/home/ubuntu/anaconda3/lib/python3.6/site-packages/sklearn/utils/validation.py:578: DataConversionWarning: A column-vector y was passed when a 1d array was expected. Please change the shape of y to (n_samples, ), for example using ravel().\n",
      "  y = column_or_1d(y, warn=True)\n",
      "/home/ubuntu/anaconda3/lib/python3.6/site-packages/sklearn/utils/validation.py:578: DataConversionWarning: A column-vector y was passed when a 1d array was expected. Please change the shape of y to (n_samples, ), for example using ravel().\n",
      "  y = column_or_1d(y, warn=True)\n",
      "/home/ubuntu/anaconda3/lib/python3.6/site-packages/sklearn/utils/validation.py:578: DataConversionWarning: A column-vector y was passed when a 1d array was expected. Please change the shape of y to (n_samples, ), for example using ravel().\n",
      "  y = column_or_1d(y, warn=True)\n",
      "/home/ubuntu/anaconda3/lib/python3.6/site-packages/sklearn/utils/validation.py:578: DataConversionWarning: A column-vector y was passed when a 1d array was expected. Please change the shape of y to (n_samples, ), for example using ravel().\n",
      "  y = column_or_1d(y, warn=True)\n",
      "/home/ubuntu/anaconda3/lib/python3.6/site-packages/sklearn/utils/validation.py:578: DataConversionWarning: A column-vector y was passed when a 1d array was expected. Please change the shape of y to (n_samples, ), for example using ravel().\n",
      "  y = column_or_1d(y, warn=True)\n",
      "/home/ubuntu/anaconda3/lib/python3.6/site-packages/sklearn/utils/validation.py:578: DataConversionWarning: A column-vector y was passed when a 1d array was expected. Please change the shape of y to (n_samples, ), for example using ravel().\n",
      "  y = column_or_1d(y, warn=True)\n",
      "/home/ubuntu/anaconda3/lib/python3.6/site-packages/sklearn/utils/validation.py:578: DataConversionWarning: A column-vector y was passed when a 1d array was expected. Please change the shape of y to (n_samples, ), for example using ravel().\n",
      "  y = column_or_1d(y, warn=True)\n",
      "/home/ubuntu/anaconda3/lib/python3.6/site-packages/sklearn/utils/validation.py:578: DataConversionWarning: A column-vector y was passed when a 1d array was expected. Please change the shape of y to (n_samples, ), for example using ravel().\n",
      "  y = column_or_1d(y, warn=True)\n"
     ]
    }
   ],
   "source": [
    "from sklearn.linear_model import LogisticRegression\n",
    "from sklearn.model_selection import GridSearchCV\n",
    "\n",
    "# Create a classifier\n",
    "classifier = LogisticRegression(penalty='l2', fit_intercept=False)\n",
    "parameters = {'C':[1/(len(X_train)*2*10**i) for i in range(-10, 1)]}\n",
    "clf = GridSearchCV(classifier, parameters, cv=5)\n",
    "\n",
    "# We learn the model on the training set\n",
    "clf.fit(X_train, y_train)\n",
    "\n",
    "# Now predict the spam types on the test set\n",
    "classifier_predicted = clf.predict(X_val)\n"
   ]
  },
  {
   "cell_type": "code",
   "execution_count": 20,
   "metadata": {},
   "outputs": [
    {
     "name": "stdout",
     "output_type": "stream",
     "text": [
      "Best C: 10.0\n",
      "Best Lamba:  1e-05\n",
      "Accuracy: 75.00%\n"
     ]
    }
   ],
   "source": [
    "print(\"Best C:\", clf.best_params_['C'])\n",
    "print(\"Best Lamba: \",1/(clf.best_params_['C']*len(X_train)*2))\n",
    "print(\"Accuracy: {:.2f}%\".format(np.mean(y_val.reshape(1,-1) == classifier_predicted)*100))"
   ]
  },
  {
   "cell_type": "code",
   "execution_count": null,
   "metadata": {},
   "outputs": [],
   "source": []
  },
  {
   "cell_type": "markdown",
   "metadata": {},
   "source": [
    "### 4.4 Re-running with best $\\lambda$"
   ]
  },
  {
   "cell_type": "code",
   "execution_count": 21,
   "metadata": {},
   "outputs": [
    {
     "name": "stdout",
     "output_type": "stream",
     "text": [
      "2019-04-27 20:53:33.004035\n"
     ]
    }
   ],
   "source": [
    "from datetime import datetime\n",
    "print(datetime.now())"
   ]
  },
  {
   "cell_type": "code",
   "execution_count": 22,
   "metadata": {},
   "outputs": [
    {
     "name": "stderr",
     "output_type": "stream",
     "text": [
      "/home/ubuntu/anaconda3/lib/python3.6/site-packages/ipykernel_launcher.py:2: RuntimeWarning: overflow encountered in exp\n",
      "  \n"
     ]
    }
   ],
   "source": [
    "init_beta = np.zeros(X_train.shape[1]).reshape(-1, 1)\n",
    "init_theta = np.zeros(X_train.shape[1]).reshape(-1, 1)\n",
    "lamb = 0.01\n",
    "init_eta = initstepsize(X_train, lamb)\n",
    "target_accuracy = 10**-4\n",
    "\n",
    "comp_beta_opt = fastgradalgo(init_beta, init_theta, init_eta, target_accuracy)\n",
    "\n",
    "# Create array of Objective Values at each iteration\n",
    "comp_obj_vals_opt = list(map(lambda bt: computeobj(X_train, y_train, bt, lamb), comp_beta_opt))"
   ]
  },
  {
   "cell_type": "code",
   "execution_count": 23,
   "metadata": {},
   "outputs": [
    {
     "data": {
      "text/plain": [
       "0.024800000000000044"
      ]
     },
     "execution_count": 23,
     "metadata": {},
     "output_type": "execute_result"
    }
   ],
   "source": [
    "misclassificationerror(y_train, X_train, comp_beta_opt[len(comp_beta_opt)-1])"
   ]
  },
  {
   "cell_type": "code",
   "execution_count": 24,
   "metadata": {},
   "outputs": [
    {
     "data": {
      "text/plain": [
       "0.21299999999999997"
      ]
     },
     "execution_count": 24,
     "metadata": {},
     "output_type": "execute_result"
    }
   ],
   "source": [
    "misclassificationerror(y_val, X_val, comp_beta_opt[len(comp_beta_opt)-1])"
   ]
  },
  {
   "cell_type": "code",
   "execution_count": 25,
   "metadata": {},
   "outputs": [
    {
     "data": {
      "image/png": "[encoded data removed]",
      "text/plain": [
       "<Figure size 720x576 with 1 Axes>"
      ]
     },
     "metadata": {},
     "output_type": "display_data"
    }
   ],
   "source": [
    "plt.figure(figsize=(10,8))\n",
    "plt.plot(range(0,len(comp_beta_opt)),list(map(lambda b: misclassificationerror(y_train,X_train,b),comp_beta_opt)))\n",
    "plt.plot(range(0,len(comp_beta_opt)),list(map(lambda b: misclassificationerror(y_val,X_val,b),comp_beta_opt)))\n",
    "plt.legend(['Training data', 'Validation data'], loc='upper right')\n",
    "plt.title('Misclassification Error vs. Iteration t')\n",
    "plt.xlabel('Iteration t')\n",
    "plt.ylabel('Misclassification Error');"
   ]
  },
  {
   "cell_type": "code",
   "execution_count": 26,
   "metadata": {},
   "outputs": [
    {
     "name": "stdout",
     "output_type": "stream",
     "text": [
      "2019-04-28 01:07:28.308509\n"
     ]
    }
   ],
   "source": [
    "print(datetime.now())"
   ]
  },
  {
   "cell_type": "markdown",
   "metadata": {},
   "source": [
    "### 4.5 Trying with sklearn.LogisticRegressionCV"
   ]
  },
  {
   "cell_type": "code",
   "execution_count": 27,
   "metadata": {},
   "outputs": [],
   "source": [
    "# from sklearn.linear_model import LogisticRegressionCV\n",
    "\n",
    "# classifier = LogisticRegressionCV(Cs=10, penalty='l2', fit_intercept=False, cv=5)\n",
    "\n",
    "# classifier.fit(X_train, y_train)\n",
    "\n",
    "# classifier.score(X_val, y_val)"
   ]
  },
  {
   "cell_type": "code",
   "execution_count": null,
   "metadata": {},
   "outputs": [],
   "source": []
  },
  {
   "cell_type": "markdown",
   "metadata": {},
   "source": [
    "### 4.6 Make Predictions and create submission CSV"
   ]
  },
  {
   "cell_type": "code",
   "execution_count": 32,
   "metadata": {
    "scrolled": true
   },
   "outputs": [],
   "source": [
    "comp_beta_opt_T = comp_beta_opt[len(comp_beta_opt)-1]\n",
    "y_preds = np.fromiter(map(lambda p: 1 if p >= 0.5 else -1, 1/(1+np.exp(-X_test@comp_beta_opt_T))), dtype=np.int)"
   ]
  },
  {
   "cell_type": "code",
   "execution_count": 33,
   "metadata": {},
   "outputs": [],
   "source": [
    "y_preds = np.fromiter(map(lambda y: 0 if y == 1 else 1, y_preds), dtype=int)"
   ]
  },
  {
   "cell_type": "code",
   "execution_count": 34,
   "metadata": {},
   "outputs": [
    {
     "data": {
      "text/plain": [
       "preds\n",
       "0    255\n",
       "1    745\n",
       "dtype: int64"
      ]
     },
     "execution_count": 34,
     "metadata": {},
     "output_type": "execute_result"
    }
   ],
   "source": [
    "pd.DataFrame({'preds':y_preds}).groupby('preds').size()"
   ]
  },
  {
   "cell_type": "code",
   "execution_count": 35,
   "metadata": {},
   "outputs": [],
   "source": [
    "pd.DataFrame({'Category':y_preds}).reset_index()\\\n",
    ".rename(columns={'index':'Id'}).to_csv('./comp-submission_3.csv', index=False)"
   ]
  },
  {
   "cell_type": "code",
   "execution_count": null,
   "metadata": {},
   "outputs": [],
   "source": []
  }
 ],
 "metadata": {
  "kernelspec": {
   "display_name": "Python 3",
   "language": "python",
   "name": "python3"
  },
  "language_info": {
   "codemirror_mode": {
    "name": "ipython",
    "version": 3
   },
   "file_extension": ".py",
   "mimetype": "text/x-python",
   "name": "python",
   "nbconvert_exporter": "python",
   "pygments_lexer": "ipython3",
   "version": "3.6.8"
  }
 },
 "nbformat": 4,
 "nbformat_minor": 2
}
