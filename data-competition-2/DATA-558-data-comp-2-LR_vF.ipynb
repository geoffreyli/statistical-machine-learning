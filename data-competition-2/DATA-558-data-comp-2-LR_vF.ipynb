{
 "cells": [
  {
   "cell_type": "markdown",
   "metadata": {},
   "source": [
    "## DATA 558: Data Competition 2\n",
    "\n",
    "### Logistic Regression Models (Prompt from HW6)\n",
    "\n",
    "Geoffrey Li\n",
    "\n"
   ]
  },
  {
   "cell_type": "code",
   "execution_count": 11,
   "metadata": {},
   "outputs": [],
   "source": [
    "import pandas as pd\n",
    "import numpy as np\n",
    "import matplotlib.pyplot as plt\n",
    "from sklearn import preprocessing\n",
    "import datetime\n",
    "import random\n",
    "from timeit import default_timer as timer\n",
    "import pickle"
   ]
  },
  {
   "cell_type": "markdown",
   "metadata": {},
   "source": [
    "### 1: Define Functions"
   ]
  },
  {
   "cell_type": "code",
   "execution_count": 2,
   "metadata": {},
   "outputs": [],
   "source": [
    "def computegrad(x, y, beta, lamb):\n",
    "    p = np.identity(len(x)) - np.diag(1/(1+np.exp(np.multiply(-y, x@beta))).reshape(1, -1)[0])\n",
    "    return -1/len(x) * x.T @ p @ y + 2*lamb*beta\n",
    "\n",
    "\n",
    "def computeobj(x, y, beta, lamb):\n",
    "    return 1/(len(x))*np.sum(np.log(1+np.exp(np.multiply(-y, x@beta)))) + lamb*np.sum(beta**2)\n",
    "\n",
    "\n",
    "def backtracking(curr_beta, lamb, x, y, eta_t=1, alpha=0.5, gamma=0.5, max_iter=100):\n",
    "    grad_curr_beta = computegrad(x, y, curr_beta, lamb)  # Gradient at current beta\n",
    "    norm_grad_curr_beta = np.sqrt(np.sum(grad_curr_beta ** 2))  # Norm of the gradient at current beta\n",
    "    found_eta_t = False\n",
    "    i = 0  # Iteration counter\n",
    "\n",
    "    while (found_eta_t is False and i < max_iter):\n",
    "        if (computeobj(x, y, curr_beta - eta_t * grad_curr_beta, lamb) <\n",
    "                computeobj(x, y, curr_beta, lamb) - alpha * eta_t * norm_grad_curr_beta ** 2):\n",
    "            found_eta_t = True\n",
    "        elif i == max_iter - 1:\n",
    "            raise ('Maximum number of iterations of backtracking reached')\n",
    "        else:\n",
    "            eta_t *= gamma\n",
    "            i += 1\n",
    "\n",
    "    return eta_t\n",
    "\n",
    "\n",
    "def initstepsize(x, lamb):\n",
    "    return 1/(max(np.linalg.eigh(1/len(x)*x.T@x)[0]) + lamb)\n",
    "\n",
    "\n",
    "def fastgradalgo(beta_init, lamb, x, y, theta_init, ss_init, targ_acc, max_iter=1000):\n",
    "    beta_values = list()\n",
    "    beta_values.append(beta_init)\n",
    "    theta = theta_init\n",
    "\n",
    "    grad_theta = computegrad(x, y, theta, lamb)\n",
    "    grad_beta = computegrad(x, y, beta_init, lamb)\n",
    "    norm_grad_beta = np.sqrt(np.sum(grad_beta ** 2))\n",
    "\n",
    "    tuned_step_size = ss_init\n",
    "\n",
    "    t = 0\n",
    "\n",
    "    while t < max_iter and norm_grad_beta > targ_acc:\n",
    "        grad_theta = computegrad(x, y, theta, lamb)\n",
    "\n",
    "        tuned_step_size = backtracking(beta_values[t], lamb, x, y, \n",
    "                                       eta_t=tuned_step_size, alpha=0.5, gamma=0.8, max_iter=20)\n",
    "\n",
    "        beta_values.append(theta - tuned_step_size * grad_theta)\n",
    "        theta = beta_values[t + 1] + (t / (t + 3)) * (beta_values[t + 1] - beta_values[t])\n",
    "\n",
    "        t += 1\n",
    "\n",
    "        grad_beta = computegrad(x, y, beta_values[t], lamb)\n",
    "        norm_grad_beta = np.sqrt(np.sum(grad_beta ** 2))\n",
    "\n",
    "    return beta_values\n",
    "\n",
    "\n",
    "def misclassificationerror(y, x, b):\n",
    "    return 1 - np.mean(\n",
    "        np.fromiter(map(lambda p: 1 if p >= 0.5 else -1, 1/(1+np.exp(-x@b))), \n",
    "                    dtype=np.int).reshape(-1,1) == y)\n",
    "\n",
    "def misclassificationerror_transform(y, x, b, pos_class, neg_class):\n",
    "    return 1 - np.mean(\n",
    "        np.fromiter(map(lambda p: pos_class if p >= 0.5 else neg_class, 1/(1+np.exp(-x@b))), \n",
    "                    dtype=np.int) == y)"
   ]
  },
  {
   "cell_type": "code",
   "execution_count": 3,
   "metadata": {},
   "outputs": [],
   "source": [
    "def predict_transform(x, b, pos_class, neg_class):\n",
    "    return np.fromiter(map(lambda p: pos_class if p >= 0.5 else neg_class, 1/(1+np.exp(-x@b))), dtype=np.int)"
   ]
  },
  {
   "cell_type": "code",
   "execution_count": 4,
   "metadata": {},
   "outputs": [],
   "source": [
    "def mylogistic(x_train, y_train, init_eta, target_accuracy, lamb):\n",
    "    init_beta = np.zeros(x_train.shape[1])[:, np.newaxis]\n",
    "    init_theta = np.zeros(x_train.shape[1])[:, np.newaxis]\n",
    "    \n",
    "    # Run fast gradient and train classifier\n",
    "    beta_opt = fastgradalgo(init_beta, lamb, x_train, y_train, init_theta, init_eta, target_accuracy, max_iter=1000)\n",
    "    beta_opt_T = beta_opt[len(beta_opt)-1]\n",
    "    \n",
    "    return beta_opt_T"
   ]
  },
  {
   "cell_type": "markdown",
   "metadata": {},
   "source": [
    "### 2: Loading and processing data"
   ]
  },
  {
   "cell_type": "code",
   "execution_count": 5,
   "metadata": {},
   "outputs": [],
   "source": [
    "path = './data/'"
   ]
  },
  {
   "cell_type": "code",
   "execution_count": 6,
   "metadata": {},
   "outputs": [],
   "source": [
    "X_train = np.load(path+'train_features.npy')\n",
    "y_train = np.load(path+'train_labels.npy')\n",
    "\n",
    "X_val = np.load(path+'val_features.npy')\n",
    "y_val = np.load(path+'val_labels.npy')\n",
    "\n",
    "X_test = np.load(path+'test_features.npy')"
   ]
  },
  {
   "cell_type": "code",
   "execution_count": 7,
   "metadata": {},
   "outputs": [],
   "source": [
    "# Standardize the data\n",
    "scaler = preprocessing.StandardScaler().fit(X_train)\n",
    "X_train = scaler.transform(X_train)\n",
    "X_val = scaler.transform(X_val)\n",
    "X_test = scaler.transform(X_test)"
   ]
  },
  {
   "cell_type": "code",
   "execution_count": 8,
   "metadata": {},
   "outputs": [],
   "source": [
    "# Subsets training and validation data based on input classes\n",
    "def subset_data(pos_class, neg_class, X_train, y_train, X_val=None, y_val=None):\n",
    "    train_subset = (y_train == pos_class) | (y_train == neg_class)\n",
    "    y_train_subset = y_train[np.where(train_subset)]\n",
    "    X_train_subset = X_train[train_subset.nonzero()[0]]\n",
    "    y_train_subset = np.fromiter(map(lambda n: 1 if n == pos_class else -1, y_train_subset), dtype=int).reshape(-1, 1)\n",
    "   \n",
    "    if X_val != None and y_val != None:\n",
    "        val_subset = (y_val == pos_class) | (y_val == neg_class)\n",
    "        y_val_subset = y_val[np.where(val_subset)]\n",
    "        X_val_subset = X_val[val_subset.nonzero()[0]]\n",
    "        y_val_subset = np.fromiter(map(lambda n: 1 if n == pos_class else -1, y_val_subset), dtype=int).reshape(-1, 1)\n",
    "        return X_train_subset, y_train_subset, X_val_subset, y_val_subset\n",
    "    \n",
    "    return X_train_subset, y_train_subset"
   ]
  },
  {
   "cell_type": "markdown",
   "metadata": {},
   "source": [
    "Subset training and val data to class 1 as the positive class and class 0 as the negative class."
   ]
  },
  {
   "cell_type": "code",
   "execution_count": 16,
   "metadata": {},
   "outputs": [],
   "source": [
    "X_train_subset, y_train_subset, X_val_subset, y_val_subset = subset_data(1, 0, X_train, y_train, X_val, y_val)"
   ]
  },
  {
   "cell_type": "markdown",
   "metadata": {},
   "source": [
    "### 3: Training model with default params"
   ]
  },
  {
   "cell_type": "markdown",
   "metadata": {},
   "source": [
    "Pick two classes of your choice from the dataset. Train an L2-regularized logistic regression classifier on the training set using your own fast gradient algorithm with $\\lambda = 1$.\n"
   ]
  },
  {
   "cell_type": "markdown",
   "metadata": {},
   "source": [
    "Initialize and train classifier."
   ]
  },
  {
   "cell_type": "code",
   "execution_count": 17,
   "metadata": {},
   "outputs": [],
   "source": [
    "# Initialize fast gradient\n",
    "init_beta = np.zeros(X_train_subset.shape[1])[:, np.newaxis]\n",
    "init_theta = np.zeros(X_train_subset.shape[1])[:, np.newaxis]\n",
    "lambduh = 1\n",
    "target_accuracy = 10**-3\n",
    "init_eta = initstepsize(X_train_subset, lambduh)\n",
    "\n",
    "# Train classifier\n",
    "beta_opt_naive = fastgradalgo(init_beta, lambduh, X_train_subset, y_train_subset, \n",
    "                              init_theta, init_eta, target_accuracy)\n",
    "\n",
    "beta_opt_naive_T = beta_opt_naive[len(beta_opt_naive)-1]"
   ]
  },
  {
   "cell_type": "markdown",
   "metadata": {},
   "source": [
    "Plot, with different colors, the misclassification error on the training set and on the validation set vs iterations.\n"
   ]
  },
  {
   "cell_type": "code",
   "execution_count": 18,
   "metadata": {
    "scrolled": false
   },
   "outputs": [
    {
     "data": {
      "image/png": "[encoded data removed]",
      "text/plain": [
       "<Figure size 720x576 with 1 Axes>"
      ]
     },
     "metadata": {},
     "output_type": "display_data"
    }
   ],
   "source": [
    "# Plot misclassification error\n",
    "plt.figure(figsize=(10,8))\n",
    "plt.plot(range(0,len(beta_opt_naive)),\n",
    "         list(map(lambda b: misclassificationerror_transform(y_train,X_train,b,1,0),beta_opt_naive)))\n",
    "plt.plot(range(0,len(beta_opt_naive)),\n",
    "         list(map(lambda b: misclassificationerror_transform(y_val,X_val,b,1,0),beta_opt_naive)))\n",
    "plt.legend(['Training data', 'Validation data'], loc='upper right')\n",
    "plt.title('Misclassification Error vs. Iteration t')\n",
    "plt.xlabel('Iteration t')\n",
    "plt.ylabel('Misclassification Error');"
   ]
  },
  {
   "cell_type": "markdown",
   "metadata": {},
   "source": [
    "In the above plot, we see that the misclassification error on the training data and validation data quickly approach 0.98. This makes sense as we only chose 2 classes out of 100 for our model. At best, we should expect to predict correctly for 2 out of 100 classes, leading to a misclassification error of 0.98 (since we have a balanced multi-class classification task).\n",
    "\n",
    "For the training data, our model appears to stabilize at around 100 iterations."
   ]
  },
  {
   "cell_type": "code",
   "execution_count": 36,
   "metadata": {},
   "outputs": [
    {
     "data": {
      "text/plain": [
       "preds\n",
       "0    5266\n",
       "1    4734\n",
       "dtype: int64"
      ]
     },
     "execution_count": 36,
     "metadata": {},
     "output_type": "execute_result"
    }
   ],
   "source": [
    "y_preds = predict_transform(X_test, beta_opt_naive_T, 1, 0)\n",
    "pd.DataFrame({'preds':y_preds}).groupby('preds').size()"
   ]
  },
  {
   "cell_type": "code",
   "execution_count": 29,
   "metadata": {},
   "outputs": [],
   "source": [
    "pd.DataFrame({'Category':y_preds}).reset_index()\\\n",
    ".rename(columns={'index':'Id'}).to_csv('./comp2-subm_log-lam1.csv', index=False)"
   ]
  },
  {
   "cell_type": "markdown",
   "metadata": {},
   "source": [
    "Misclassification Error on Test Set (from Kaggle): 0.98"
   ]
  },
  {
   "cell_type": "markdown",
   "metadata": {},
   "source": [
    "### 4: Training model with opt $\\lambda$"
   ]
  },
  {
   "cell_type": "markdown",
   "metadata": {},
   "source": [
    "Find the value of the regularization parameter $\\lambda$ using cross-validation; you may use scikit-learn’s built-in functions for this purpose. Train an L2-regularized logistic regression classifier on the training set using your own fast gradient algorithm with that value of $\\lambda$ found by cross-validation."
   ]
  },
  {
   "cell_type": "code",
   "execution_count": 31,
   "metadata": {},
   "outputs": [
    {
     "name": "stderr",
     "output_type": "stream",
     "text": [
      "/home/ubuntu/anaconda3/envs/python3/lib/python3.6/site-packages/sklearn/utils/validation.py:761: DataConversionWarning: A column-vector y was passed when a 1d array was expected. Please change the shape of y to (n_samples, ), for example using ravel().\n",
      "  y = column_or_1d(y, warn=True)\n"
     ]
    },
    {
     "data": {
      "text/plain": [
       "0.985"
      ]
     },
     "execution_count": 31,
     "metadata": {},
     "output_type": "execute_result"
    }
   ],
   "source": [
    "from sklearn.linear_model import LogisticRegressionCV\n",
    "\n",
    "clf = LogisticRegressionCV(Cs=10, penalty='l2', fit_intercept=False, cv=5)\n",
    "clf.fit(X_train_subset, y_train_subset)\n",
    "clf.score(X_val_subset, y_val_subset)"
   ]
  },
  {
   "cell_type": "markdown",
   "metadata": {},
   "source": [
    "Our L2-regularized logistic regression classifier appears to perform well on the 2-class subset, with a score of 0.985 (misclassification error of 0.015)."
   ]
  },
  {
   "cell_type": "code",
   "execution_count": 32,
   "metadata": {},
   "outputs": [
    {
     "data": {
      "text/plain": [
       "0.0099"
      ]
     },
     "execution_count": 32,
     "metadata": {},
     "output_type": "execute_result"
    }
   ],
   "source": [
    "clf.score(X_val, y_val)"
   ]
  },
  {
   "cell_type": "code",
   "execution_count": 42,
   "metadata": {},
   "outputs": [
    {
     "name": "stdout",
     "output_type": "stream",
     "text": [
      "Best C: 0.000774263682681127\n",
      "Best Lamba:  0.6457748325074419\n"
     ]
    }
   ],
   "source": [
    "print(\"Best C:\", clf.C_[0])\n",
    "print(\"Best Lamba: \",1/(clf.C_[0]*len(X_train_subset)*2))\n",
    "opt_lamb = 1/(clf.C_[0]*len(X_train_subset)*2)"
   ]
  },
  {
   "cell_type": "markdown",
   "metadata": {},
   "source": [
    "#### Train Model"
   ]
  },
  {
   "cell_type": "markdown",
   "metadata": {},
   "source": [
    "Now we train our L2-regularized logistic regression classifier with the optimal lambda we found above using sklearn."
   ]
  },
  {
   "cell_type": "code",
   "execution_count": 37,
   "metadata": {},
   "outputs": [],
   "source": [
    "# Initialize fast gradient\n",
    "init_beta = np.zeros(X_train_subset.shape[1])[:, np.newaxis]\n",
    "init_theta = np.zeros(X_train_subset.shape[1])[:, np.newaxis]\n",
    "lambduh = opt_lamb\n",
    "target_accuracy = 10**-3\n",
    "init_eta = initstepsize(X_train_subset, lambduh)\n",
    "\n",
    "# Train classifier\n",
    "beta_opt = fastgradalgo(init_beta, lambduh, X_train_subset, y_train_subset, \n",
    "                              init_theta, init_eta, target_accuracy)\n",
    "\n",
    "beta_opt_T = beta_opt[len(beta_opt)-1]"
   ]
  },
  {
   "cell_type": "code",
   "execution_count": 41,
   "metadata": {},
   "outputs": [
    {
     "data": {
      "image/png": "[encoded data removed]",
      "text/plain": [
       "<Figure size 720x576 with 1 Axes>"
      ]
     },
     "metadata": {},
     "output_type": "display_data"
    }
   ],
   "source": [
    "# Plot misclassification error\n",
    "plt.figure(figsize=(10,8))\n",
    "plt.plot(range(0,len(beta_opt)),\n",
    "         list(map(lambda b: misclassificationerror_transform(y_train,X_train,b,1,0),beta_opt)))\n",
    "plt.plot(range(0,len(beta_opt)),\n",
    "         list(map(lambda b: misclassificationerror_transform(y_val,X_val,b,1,0),beta_opt)))\n",
    "plt.legend(['Training data', 'Validation data'], loc='upper right')\n",
    "plt.title('Misclassification Error vs. Iteration t')\n",
    "plt.xlabel('Iteration t')\n",
    "plt.ylabel('Misclassification Error');"
   ]
  },
  {
   "cell_type": "markdown",
   "metadata": {},
   "source": [
    "We see a similar story as above, our models approach a misclassifiaction error of approximately 0.98 at around 100 iterations (on the training data)."
   ]
  },
  {
   "cell_type": "code",
   "execution_count": null,
   "metadata": {},
   "outputs": [],
   "source": [
    "y_preds = predict_transform(X_test, beta_opt_T, 1, 0)\n",
    "pd.DataFrame({'preds':y_preds}).groupby('preds').size()"
   ]
  },
  {
   "cell_type": "code",
   "execution_count": null,
   "metadata": {},
   "outputs": [],
   "source": [
    "pd.DataFrame({'Category':y_preds}).reset_index()\\\n",
    ".rename(columns={'index':'Id'}).to_csv('./comp2-subm_log-lam-opt.csv', index=False)"
   ]
  },
  {
   "cell_type": "markdown",
   "metadata": {},
   "source": [
    "Misclassification Error on Test Set (from Kaggle): 0.98"
   ]
  },
  {
   "cell_type": "markdown",
   "metadata": {},
   "source": [
    "### 5: Training with pairwise Logistic Classifiers"
   ]
  },
  {
   "cell_type": "markdown",
   "metadata": {},
   "source": [
    "In this section I'm trying something beyond the scope of the prompt. Here I'm training 4,950 pariwise one-vs-one (OVO) L2-regularized logistic regression classifiers using my own home-grown classifier. Predictions are found using majority vote, with ties broken by random choice."
   ]
  },
  {
   "cell_type": "code",
   "execution_count": null,
   "metadata": {},
   "outputs": [
    {
     "name": "stdout",
     "output_type": "stream",
     "text": [
      "Training (0,1) model...\n",
      "Training (0,2) model...\n",
      "Training (0,3) model...\n",
      "Training (0,4) model...\n",
      "Training (0,5) model...\n",
      "Training (0,6) model...\n",
      "Training (0,7) model...\n",
      "Training (0,8) model...\n",
      "Training (0,9) model...\n",
      "Training (0,10) model...\n",
      "Training (0,11) model...\n",
      "Training (0,12) model...\n",
      "Training (0,13) model...\n",
      "Training (0,14) model...\n",
      "Training (0,15) model...\n",
      "Training (0,16) model...\n",
      "Training (0,17) model...\n",
      "Training (0,18) model...\n",
      "Training (0,19) model...\n",
      "Training (0,20) model...\n",
      "Training (0,21) model...\n",
      "Training (0,22) model...\n",
      "Training (0,23) model...\n",
      "Training (0,24) model...\n",
      "Training (0,25) model...\n",
      "Training (0,26) model...\n",
      "Training (0,27) model...\n",
      "Training (0,28) model...\n",
      "Training (0,29) model...\n",
      "Training (0,30) model...\n",
      "Training (0,31) model...\n",
      "Training (0,32) model...\n",
      "Training (0,33) model...\n",
      "Training (0,34) model...\n",
      "Training (0,35) model...\n",
      "Training (0,36) model...\n",
      "Training (0,37) model...\n",
      "Training (0,38) model...\n",
      "Training (0,39) model...\n",
      "Training (0,40) model...\n",
      "Training (0,41) model...\n",
      "Training (0,42) model...\n",
      "Training (0,43) model...\n",
      "Training (0,44) model...\n",
      "Training (0,45) model...\n",
      "Training (0,46) model...\n",
      "Training (0,47) model...\n",
      "Training (0,48) model...\n",
      "Training (0,49) model...\n",
      "Training (0,50) model...\n",
      "Training (0,51) model...\n",
      "Training (0,52) model...\n",
      "Training (0,53) model...\n",
      "Training (0,54) model...\n",
      "Training (0,55) model...\n",
      "Training (0,56) model...\n",
      "Training (0,57) model...\n",
      "Training (0,58) model...\n",
      "Training (0,59) model...\n",
      "Training (0,60) model...\n",
      "Training (0,61) model...\n",
      "Training (0,62) model...\n",
      "Training (0,63) model...\n",
      "Training (0,64) model...\n",
      "Training (0,65) model...\n",
      "Training (0,66) model...\n",
      "Training (0,67) model...\n",
      "Training (0,68) model...\n",
      "Training (0,69) model...\n",
      "Training (0,70) model...\n",
      "Training (0,71) model...\n",
      "Training (0,72) model...\n",
      "Training (0,73) model...\n",
      "Training (0,74) model...\n",
      "Training (0,75) model...\n",
      "Training (0,76) model...\n",
      "Training (0,77) model...\n",
      "Training (0,78) model...\n",
      "Training (0,79) model...\n",
      "Training (0,80) model...\n",
      "Training (0,81) model...\n",
      "Training (0,82) model...\n",
      "Training (0,83) model...\n",
      "Training (0,84) model...\n",
      "Training (0,85) model...\n",
      "Training (0,86) model...\n",
      "Training (0,87) model...\n",
      "Training (0,88) model...\n",
      "Training (0,89) model...\n",
      "Training (0,90) model...\n",
      "Training (0,91) model...\n",
      "Training (0,92) model...\n",
      "Training (0,93) model...\n",
      "Training (0,94) model...\n",
      "Training (0,95) model...\n",
      "Training (0,96) model...\n",
      "Training (0,97) model...\n",
      "Training (0,98) model...\n",
      "Training (0,99) model...\n",
      "Training (1,2) model...\n",
      "Training (1,3) model...\n",
      "Training (1,4) model...\n",
      "Training (1,5) model...\n",
      "Training (1,6) model...\n",
      "Training (1,7) model...\n",
      "Training (1,8) model...\n",
      "Training (1,9) model...\n",
      "Training (1,10) model...\n",
      "Training (1,11) model...\n",
      "Training (1,12) model...\n",
      "Training (1,13) model...\n",
      "Training (1,14) model...\n",
      "Training (1,15) model...\n",
      "Training (1,16) model...\n",
      "Training (1,17) model...\n",
      "Training (1,18) model...\n",
      "Training (1,19) model...\n",
      "Training (1,20) model...\n",
      "Training (1,21) model...\n",
      "Training (1,22) model...\n",
      "Training (1,23) model...\n",
      "Training (1,24) model...\n",
      "Training (1,25) model...\n",
      "Training (1,26) model...\n",
      "Training (1,27) model...\n",
      "Training (1,28) model...\n",
      "Training (1,29) model...\n",
      "Training (1,30) model...\n",
      "Training (1,31) model...\n",
      "Training (1,32) model...\n",
      "Training (1,33) model...\n",
      "Training (1,34) model...\n",
      "Training (1,35) model...\n",
      "Training (1,36) model...\n",
      "Training (1,37) model...\n",
      "Training (1,38) model...\n",
      "Training (1,39) model...\n",
      "Training (1,40) model...\n",
      "Training (1,41) model...\n",
      "Training (1,42) model...\n",
      "Training (1,43) model...\n",
      "Training (1,44) model...\n",
      "Training (1,45) model...\n",
      "Training (1,46) model...\n",
      "Training (1,47) model...\n",
      "Training (1,48) model...\n",
      "Training (1,49) model...\n",
      "Training (1,50) model...\n",
      "Training (1,51) model...\n",
      "Training (1,52) model...\n",
      "Training (1,53) model...\n",
      "Training (1,54) model...\n",
      "Training (1,55) model...\n",
      "Training (1,56) model...\n",
      "Training (1,57) model...\n",
      "Training (1,58) model...\n",
      "Training (1,59) model...\n",
      "Training (1,60) model...\n",
      "Training (1,61) model...\n",
      "Training (1,62) model...\n",
      "Training (1,63) model...\n",
      "Training (1,64) model...\n",
      "Training (1,65) model...\n",
      "Training (1,66) model...\n",
      "Training (1,67) model...\n",
      "Training (1,68) model...\n",
      "Training (1,69) model...\n",
      "Training (1,70) model...\n",
      "Training (1,71) model...\n",
      "Training (1,72) model...\n",
      "Training (1,73) model...\n",
      "Training (1,74) model...\n",
      "Training (1,75) model...\n",
      "Training (1,76) model...\n",
      "Training (1,77) model...\n",
      "Training (1,78) model...\n",
      "Training (1,79) model...\n",
      "Training (1,80) model...\n",
      "Training (1,81) model...\n",
      "Training (1,82) model...\n",
      "Training (1,83) model...\n",
      "Training (1,84) model...\n",
      "Training (1,85) model...\n",
      "Training (1,86) model...\n",
      "Training (1,87) model...\n",
      "Training (1,88) model...\n",
      "Training (1,89) model...\n",
      "Training (1,90) model...\n",
      "Training (1,91) model...\n",
      "Training (1,92) model...\n",
      "Training (1,93) model...\n",
      "Training (1,94) model...\n",
      "Training (1,95) model...\n",
      "Training (1,96) model...\n",
      "Training (1,97) model...\n",
      "Training (1,98) model...\n",
      "Training (1,99) model...\n",
      "Training (2,3) model...\n",
      "Training (2,4) model...\n",
      "Training (2,5) model...\n",
      "Training (2,6) model...\n",
      "Training (2,7) model...\n",
      "Training (2,8) model...\n",
      "Training (2,9) model...\n",
      "Training (2,10) model...\n",
      "Training (2,11) model...\n",
      "Training (2,12) model...\n",
      "Training (2,13) model...\n",
      "Training (2,14) model...\n",
      "Training (2,15) model...\n",
      "Training (2,16) model...\n",
      "Training (2,17) model...\n",
      "Training (2,18) model...\n",
      "Training (2,19) model...\n",
      "Training (2,20) model...\n",
      "Training (2,21) model...\n",
      "Training (2,22) model...\n",
      "Training (2,23) model...\n",
      "Training (2,24) model...\n",
      "Training (2,25) model...\n",
      "Training (2,26) model...\n",
      "Training (2,27) model...\n",
      "Training (2,28) model...\n",
      "Training (2,29) model...\n",
      "Training (2,30) model...\n",
      "Training (2,31) model...\n",
      "Training (2,32) model...\n",
      "Training (2,33) model...\n",
      "Training (2,34) model...\n",
      "Training (2,35) model...\n",
      "Training (2,36) model...\n",
      "Training (2,37) model...\n",
      "Training (2,38) model...\n",
      "Training (2,39) model...\n",
      "Training (2,40) model...\n",
      "Training (2,41) model...\n",
      "Training (2,42) model...\n",
      "Training (2,43) model...\n",
      "Training (2,44) model...\n",
      "Training (2,45) model...\n",
      "Training (2,46) model...\n",
      "Training (2,47) model...\n",
      "Training (2,48) model...\n",
      "Training (2,49) model...\n",
      "Training (2,50) model...\n",
      "Training (2,51) model...\n",
      "Training (2,52) model...\n",
      "Training (2,53) model...\n",
      "Training (2,54) model...\n",
      "Training (2,55) model...\n",
      "Training (2,56) model...\n",
      "Training (2,57) model...\n",
      "Training (2,58) model...\n",
      "Training (2,59) model...\n",
      "Training (2,60) model...\n",
      "Training (2,61) model...\n",
      "Training (2,62) model...\n",
      "Training (2,63) model...\n",
      "Training (2,64) model...\n",
      "Training (2,65) model...\n",
      "Training (2,66) model...\n",
      "Training (2,67) model...\n",
      "Training (2,68) model...\n",
      "Training (2,69) model...\n",
      "Training (2,70) model...\n",
      "Training (2,71) model...\n",
      "Training (2,72) model...\n",
      "Training (2,73) model...\n",
      "Training (2,74) model...\n",
      "Training (2,75) model...\n",
      "Training (2,76) model...\n",
      "Training (2,77) model...\n",
      "Training (2,78) model...\n",
      "Training (2,79) model...\n",
      "Training (2,80) model...\n",
      "Training (2,81) model...\n",
      "Training (2,82) model...\n",
      "Training (2,83) model...\n",
      "Training (2,84) model...\n",
      "Training (2,85) model...\n",
      "Training (2,86) model...\n",
      "Training (2,87) model...\n",
      "Training (2,88) model...\n",
      "Training (2,89) model...\n",
      "Training (2,90) model...\n",
      "Training (2,91) model...\n",
      "Training (2,92) model...\n",
      "Training (2,93) model...\n",
      "Training (2,94) model...\n",
      "Training (2,95) model...\n",
      "Training (2,96) model...\n",
      "Training (2,97) model...\n",
      "Training (2,98) model...\n",
      "Training (2,99) model...\n",
      "Training (3,4) model...\n",
      "Training (3,5) model...\n",
      "Training (3,6) model...\n",
      "Training (3,7) model...\n",
      "Training (3,8) model...\n",
      "Training (3,9) model...\n",
      "Training (3,10) model...\n",
      "Training (3,11) model...\n",
      "Training (3,12) model...\n",
      "Training (3,13) model...\n",
      "Training (3,14) model...\n",
      "Training (3,15) model...\n",
      "Training (3,16) model...\n",
      "Training (3,17) model...\n",
      "Training (3,18) model...\n",
      "Training (3,19) model...\n",
      "Training (3,20) model...\n",
      "Training (3,21) model...\n",
      "Training (3,22) model...\n",
      "Training (3,23) model...\n",
      "Training (3,24) model...\n",
      "Training (3,25) model...\n",
      "Training (3,26) model...\n",
      "Training (3,27) model...\n",
      "Training (3,28) model...\n",
      "Training (3,29) model...\n",
      "Training (3,30) model...\n",
      "Training (3,31) model...\n",
      "Training (3,32) model...\n",
      "Training (3,33) model...\n",
      "Training (3,34) model...\n",
      "Training (3,35) model...\n",
      "Training (3,36) model...\n",
      "Training (3,37) model...\n",
      "Training (3,38) model...\n"
     ]
    },
    {
     "name": "stdout",
     "output_type": "stream",
     "text": [
      "Training (3,39) model...\n",
      "Training (3,40) model...\n",
      "Training (3,41) model...\n",
      "Training (3,42) model...\n",
      "Training (3,43) model...\n",
      "Training (3,44) model...\n",
      "Training (3,45) model...\n",
      "Training (3,46) model...\n",
      "Training (3,47) model...\n",
      "Training (3,48) model...\n",
      "Training (3,49) model...\n",
      "Training (3,50) model...\n",
      "Training (3,51) model...\n",
      "Training (3,52) model...\n",
      "Training (3,53) model...\n",
      "Training (3,54) model...\n",
      "Training (3,55) model...\n",
      "Training (3,56) model...\n",
      "Training (3,57) model...\n",
      "Training (3,58) model...\n",
      "Training (3,59) model...\n",
      "Training (3,60) model...\n",
      "Training (3,61) model...\n",
      "Training (3,62) model...\n",
      "Training (3,63) model...\n",
      "Training (3,64) model...\n",
      "Training (3,65) model...\n",
      "Training (3,66) model...\n",
      "Training (3,67) model...\n",
      "Training (3,68) model...\n",
      "Training (3,69) model...\n",
      "Training (3,70) model...\n",
      "Training (3,71) model...\n",
      "Training (3,72) model...\n",
      "Training (3,73) model...\n",
      "Training (3,74) model...\n",
      "Training (3,75) model...\n",
      "Training (3,76) model...\n",
      "Training (3,77) model...\n",
      "Training (3,78) model...\n",
      "Training (3,79) model...\n",
      "Training (3,80) model...\n",
      "Training (3,81) model...\n",
      "Training (3,82) model...\n",
      "Training (3,83) model...\n",
      "Training (3,84) model...\n",
      "Training (3,85) model...\n",
      "Training (3,86) model...\n",
      "Training (3,87) model...\n",
      "Training (3,88) model...\n",
      "Training (3,89) model...\n",
      "Training (3,90) model...\n",
      "Training (3,91) model...\n",
      "Training (3,92) model...\n",
      "Training (3,93) model...\n",
      "Training (3,94) model...\n",
      "Training (3,95) model...\n",
      "Training (3,96) model...\n",
      "Training (3,97) model...\n",
      "Training (3,98) model...\n",
      "Training (3,99) model...\n",
      "Training (4,5) model...\n",
      "Training (4,6) model...\n",
      "Training (4,7) model...\n",
      "Training (4,8) model...\n",
      "Training (4,9) model...\n",
      "Training (4,10) model...\n",
      "Training (4,11) model...\n",
      "Training (4,12) model...\n",
      "Training (4,13) model...\n",
      "Training (4,14) model...\n",
      "Training (4,15) model...\n",
      "Training (4,16) model...\n",
      "Training (4,17) model...\n",
      "Training (4,18) model...\n",
      "Training (4,19) model...\n",
      "Training (4,20) model...\n",
      "Training (4,21) model...\n",
      "Training (4,22) model...\n",
      "Training (4,23) model...\n",
      "Training (4,24) model...\n",
      "Training (4,25) model...\n",
      "Training (4,26) model...\n",
      "Training (4,27) model...\n",
      "Training (4,28) model...\n",
      "Training (4,29) model...\n",
      "Training (4,30) model...\n",
      "Training (4,31) model...\n",
      "Training (4,32) model...\n",
      "Training (4,33) model...\n",
      "Training (4,34) model...\n",
      "Training (4,35) model...\n",
      "Training (4,36) model...\n",
      "Training (4,37) model...\n",
      "Training (4,38) model...\n",
      "Training (4,39) model...\n",
      "Training (4,40) model...\n",
      "Training (4,41) model...\n",
      "Training (4,42) model...\n",
      "Training (4,43) model...\n",
      "Training (4,44) model...\n",
      "Training (4,45) model...\n",
      "Training (4,46) model...\n",
      "Training (4,47) model...\n",
      "Training (4,48) model...\n",
      "Training (4,49) model...\n",
      "Training (4,50) model...\n",
      "Training (4,51) model...\n",
      "Training (4,52) model...\n",
      "Training (4,53) model...\n",
      "Training (4,54) model...\n",
      "Training (4,55) model...\n",
      "Training (4,56) model...\n",
      "Training (4,57) model...\n",
      "Training (4,58) model...\n",
      "Training (4,59) model...\n",
      "Training (4,60) model...\n",
      "Training (4,61) model...\n"
     ]
    }
   ],
   "source": [
    "# Initialize fast gradient\n",
    "target_accuracy = 10**-2\n",
    "opt_lamb_pairwise = list()\n",
    "classes = 100\n",
    "\n",
    "# Store trained beta values in a list of length 100, one entry for each pairwise classifier\n",
    "pairwise_clfs = dict()\n",
    "\n",
    "for i in range(classes):\n",
    "    for j in range(i+1, classes):\n",
    "        print('Training ('+str(i)+','+str(j)+') model...')\n",
    "        X_train_subset, y_train_subset, X_val_subset, y_val_subset = subset_data(i, j, X_train, y_train, X_val, y_val)\n",
    "        init_beta = np.zeros(X_train_subset.shape[1])[:, np.newaxis]\n",
    "        init_theta = np.zeros(X_train_subset.shape[1])[:, np.newaxis]\n",
    "        \n",
    "        # Run CV to find optimal lambda\n",
    "#         clf = LogisticRegressionCV(Cs=10, penalty='l2', fit_intercept=False, cv=5)\n",
    "#         clf.fit(X_train_subset, y_train_subset)\n",
    "#         opt_lamb = 1/(clf.C_[0]*len(X_train_subset)*2)\n",
    "        opt_lamb = 1\n",
    "        \n",
    "        \n",
    "        opt_lamb_pairwise.append(opt_lamb)\n",
    "        init_eta = initstepsize(X_train_subset, opt_lamb)\n",
    "        \n",
    "        # Train classifier\n",
    "        beta_opt_pairwise = fastgradalgo(init_beta, opt_lamb, X_train_subset, y_train_subset, \n",
    "                                         init_theta, init_eta, target_accuracy, max_iter=20)\n",
    "        \n",
    "        pairwise_clfs[(i, j)] = beta_opt_pairwise[len(beta_opt_pairwise)-1]\n",
    "\n",
    "                "
   ]
  },
  {
   "cell_type": "code",
   "execution_count": 9,
   "metadata": {},
   "outputs": [],
   "source": [
    "def majority_vote(array):\n",
    "    most = max(list(map(array.count, array)))\n",
    "    return random.choice(list(set(filter(lambda x: array.count(x) == most, array))))"
   ]
  },
  {
   "cell_type": "code",
   "execution_count": 10,
   "metadata": {},
   "outputs": [],
   "source": [
    "def predict_pairwise(betas, x):\n",
    "    preds = list(map(lambda p: p[0] if 1/(1+np.exp(-x@betas[p])) > 0.5 else p[1], betas))\n",
    "    return majority_vote(preds)"
   ]
  },
  {
   "cell_type": "code",
   "execution_count": null,
   "metadata": {},
   "outputs": [],
   "source": [
    "# Validation set predictions\n",
    "y_val_preds = list(map(lambda n: predict_pairwise(pairwise_clfs, n), X_val))\n",
    "\n",
    "# Misclassification Error Rate for Validation Set\n",
    "1 - np.mean(y_val_preds == y_val)"
   ]
  },
  {
   "cell_type": "code",
   "execution_count": null,
   "metadata": {},
   "outputs": [],
   "source": [
    "# Test set predictions\n",
    "y_test_preds = list(map(lambda n: predict_pairwise(pairwise_clfs, n), X_test))\n",
    "\n",
    "# Write to CSV for Kaggle submission\n",
    "pd.DataFrame({'Category':y_test_preds}).reset_index()\\\n",
    "             .rename(columns={'index':'Id'}).to_csv('./comp2-subm_log-pairwise.csv', index=False)"
   ]
  },
  {
   "cell_type": "markdown",
   "metadata": {},
   "source": [
    "Misclassification Error on Test Set (from Kaggle): 0.45 "
   ]
  },
  {
   "cell_type": "markdown",
   "metadata": {},
   "source": [
    "Comments: not bad! Our accuracy was 0.55. Let's try with sklearn, since training time took awhile and sklearn appears to be slightly more optimized."
   ]
  },
  {
   "cell_type": "markdown",
   "metadata": {},
   "source": [
    "### Pairwise Predictions with sklearn.linear_model.LogisticRegressionCV"
   ]
  },
  {
   "cell_type": "markdown",
   "metadata": {},
   "source": [
    "In this section I'm training 4,950 pairwise one-vs-one (OVO) L2-regularized logistic regression classifiers with optimal lambdas found using cross-validation. Predictions are found using majority vote, with ties broken by random choice."
   ]
  },
  {
   "cell_type": "code",
   "execution_count": null,
   "metadata": {
    "scrolled": true
   },
   "outputs": [
    {
     "name": "stdout",
     "output_type": "stream",
     "text": [
      "Training model 0: (0,1) ...\n",
      "2.269513574981829\n",
      "Training model 0: (0,2) ...\n",
      "2.143749234994175\n",
      "Training model 0: (0,3) ...\n",
      "1.7185978879861068\n",
      "Training model 0: (0,4) ...\n",
      "1.5827356700028758\n",
      "Training model 0: (0,5) ...\n",
      "1.4544363610039\n",
      "Training model 0: (0,6) ...\n",
      "2.048685435001971\n",
      "Training model 0: (0,7) ...\n",
      "1.4625382960075513\n",
      "Training model 0: (0,8) ...\n",
      "1.7417152500129305\n",
      "Training model 0: (0,9) ...\n",
      "1.4613639099989086\n",
      "Training model 0: (0,10) ...\n",
      "1.3737677090102807\n",
      "Training model 0: (0,11) ...\n",
      "1.4739647739916109\n",
      "Training model 0: (0,12) ...\n",
      "1.2806072810199112\n",
      "Training model 0: (0,13) ...\n",
      "1.8573483219952323\n",
      "Training model 0: (0,14) ...\n",
      "1.470893492019968\n",
      "Training model 0: (0,15) ...\n",
      "1.74674628500361\n",
      "Training model 0: (0,16) ...\n",
      "1.588332448998699\n",
      "Training model 0: (0,17) ...\n",
      "1.4057825930067338\n",
      "Training model 0: (0,18) ...\n",
      "1.3344219439895824\n",
      "Training model 0: (0,19) ...\n",
      "1.3688303510134574\n",
      "Training model 0: (0,20) ...\n",
      "1.615255647979211\n",
      "Training model 0: (0,21) ...\n",
      "1.3663102469872683\n",
      "Training model 0: (0,22) ...\n",
      "1.4224291999998968\n",
      "Training model 0: (0,23) ...\n",
      "1.5005693680141121\n",
      "Training model 0: (0,24) ...\n",
      "1.2638623910024762\n",
      "Training model 0: (0,25) ...\n",
      "1.3349051809927914\n",
      "Training model 0: (0,26) ...\n",
      "1.8093160860007629\n",
      "Training model 0: (0,27) ...\n",
      "1.6850253140146378\n",
      "Training model 0: (0,28) ...\n",
      "1.7105576460016891\n",
      "Training model 0: (0,29) ...\n",
      "1.9013672879955266\n",
      "Training model 0: (0,30) ...\n",
      "1.7414966709911823\n",
      "Training model 0: (0,31) ...\n",
      "2.3467040410032496\n",
      "Training model 0: (0,32) ...\n",
      "1.897230884002056\n",
      "Training model 0: (0,33) ...\n",
      "2.061951973999385\n",
      "Training model 0: (0,34) ...\n",
      "1.8204800410021562\n",
      "Training model 0: (0,35) ...\n",
      "1.9432380719808862\n",
      "Training model 0: (0,36) ...\n",
      "1.9537798470119014\n",
      "Training model 0: (0,37) ...\n",
      "1.7508597080013715\n",
      "Training model 0: (0,38) ...\n",
      "1.5082561080052983\n",
      "Training model 0: (0,39) ...\n",
      "1.910042400995735\n",
      "Training model 0: (0,40) ...\n",
      "1.6452788629976567\n",
      "Training model 0: (0,41) ...\n",
      "1.7327549129840918\n",
      "Training model 0: (0,42) ...\n",
      "1.4853271309984848\n",
      "Training model 0: (0,43) ...\n",
      "1.9119867609988432\n",
      "Training model 0: (0,44) ...\n",
      "1.590856495022308\n",
      "Training model 0: (0,45) ...\n",
      "1.5308531890041195\n",
      "Training model 0: (0,46) ...\n",
      "1.4171972850163002\n",
      "Training model 0: (0,47) ...\n",
      "1.6547434410022106\n",
      "Training model 0: (0,48) ...\n",
      "1.4893610479775816\n",
      "Training model 0: (0,49) ...\n",
      "1.6342573799774982\n",
      "Training model 0: (0,50) ...\n",
      "1.8706221540051047\n",
      "Training model 0: (0,51) ...\n",
      "1.7335478370077908\n",
      "Training model 0: (0,52) ...\n",
      "1.783856055000797\n",
      "Training model 0: (0,53) ...\n",
      "1.8277680960018188\n",
      "Training model 0: (0,54) ...\n",
      "1.458695434994297\n",
      "Training model 0: (0,55) ...\n",
      "1.641948639007751\n",
      "Training model 0: (0,56) ...\n",
      "1.7202311269938946\n",
      "Training model 0: (0,57) ...\n",
      "1.7831936349975877\n",
      "Training model 0: (0,58) ...\n",
      "1.7782437629939523\n",
      "Training model 0: (0,59) ...\n",
      "2.0879081939929165\n",
      "Training model 0: (0,60) ...\n",
      "2.0411788689962123\n",
      "Training model 0: (0,61) ...\n",
      "1.873868405004032\n",
      "Training model 0: (0,62) ...\n",
      "1.7794360510015395\n",
      "Training model 0: (0,63) ...\n",
      "1.9390112530090846\n",
      "Training model 0: (0,64) ...\n",
      "1.7281688310031313\n",
      "Training model 0: (0,65) ...\n",
      "1.6056956840038765\n",
      "Training model 0: (0,66) ...\n",
      "1.7454802439897321\n",
      "Training model 0: (0,67) ...\n",
      "1.5308787979884073\n",
      "Training model 0: (0,68) ...\n",
      "1.3777954899996985\n",
      "Training model 0: (0,69) ...\n",
      "1.8527970200229902\n",
      "Training model 0: (0,70) ...\n",
      "1.6710689419996925\n",
      "Training model 0: (0,71) ...\n",
      "2.6103336150117684\n",
      "Training model 0: (0,72) ...\n",
      "1.4154359640087932\n",
      "Training model 0: (0,73) ...\n"
     ]
    }
   ],
   "source": [
    "from sklearn.linear_model import LogisticRegressionCV\n",
    "\n",
    "maxiter = 1000\n",
    "target_accuracy = 1e-5\n",
    "classes = 100\n",
    "pairwise_clfs_sk = dict()\n",
    "opt_lamb_pairwise_sk = dict()\n",
    "t = 0\n",
    "\n",
    "for i in range(classes):\n",
    "    for j in range(i+1, classes):\n",
    "        print('Training model '+str(t)+': ('+str(i)+','+str(j)+') ...')\n",
    "        start = timer()\n",
    "        X_train_subset, y_train_subset = subset_data(i, j, X_train, y_train)\n",
    "        \n",
    "        clf = LogisticRegressionCV(penalty='l2', Cs=10, cv=5, \n",
    "                                   fit_intercept=False, max_iter=maxiter, tol=target_accuracy)\n",
    "        clf.fit(X_train_subset, y_train_subset.squeeze())\n",
    "        \n",
    "        pairwise_clfs_sk[(i, j)] = clf\n",
    "        opt_lamb_pairwise_sk[(i, j)] = clf.C_[0]\n",
    "        \n",
    "        end = timer()\n",
    "        print(end - start)\n",
    "        t += 1\n",
    "        "
   ]
  },
  {
   "cell_type": "code",
   "execution_count": null,
   "metadata": {},
   "outputs": [],
   "source": [
    "def predict_pairwise_sk(clfs, x):\n",
    "    preds = list(map(lambda c: c[0] if clfs[c].predict(x.reshape(1, -1)) == 1 else c[1], clfs))\n",
    "    return majority_vote(preds)"
   ]
  },
  {
   "cell_type": "code",
   "execution_count": null,
   "metadata": {},
   "outputs": [],
   "source": [
    "# Validation set predictions\n",
    "y_val_preds_sk = list(map(lambda n: predict_pairwise_sk(pairwise_clfs_sk, n), X_val))\n",
    "\n",
    "# Misclassification Error Rate for Validation Set\n",
    "1 - np.mean(y_val_preds_sk == y_val)"
   ]
  },
  {
   "cell_type": "code",
   "execution_count": null,
   "metadata": {},
   "outputs": [],
   "source": [
    "# Test set predictions\n",
    "y_test_preds_sk = list(map(lambda n: predict_pairwise_sk(pairwise_clfs_sk, n), X_test))\n",
    "\n",
    "# Write to CSV for Kaggle submission\n",
    "pd.DataFrame({'Category':y_test_preds_sk}).reset_index()\\\n",
    "             .rename(columns={'index':'Id'}).to_csv('./comp2-subm_log-pairwise-sk.csv', index=False)\n",
    "\n",
    "# Write trained models to pickle file\n",
    "pickle.dump( pairwise_clfs_sk, open( \"pairwise_clfs_sk.p\", \"wb\" ) )\n",
    "\n",
    "# Write optimal lambdas to pickle file\n",
    "pickle.dump( opt_lamb_pairwise_sk, open( \"opt_lamb_pairwise_sk.p\", \"wb\" ) )\n",
    "\n"
   ]
  },
  {
   "cell_type": "markdown",
   "metadata": {},
   "source": [
    "Misclassification Error on Test Set (from Kaggle): 0.429"
   ]
  },
  {
   "cell_type": "markdown",
   "metadata": {},
   "source": [
    "With an accuracy of 0.57099 on Kaggle, I'm pleased with the result! It looks like the optimal lambdas and lowered tolerance resulted in a few more percentage points of performance."
   ]
  }
 ],
 "metadata": {
  "kernelspec": {
   "display_name": "Python 3",
   "language": "python",
   "name": "python3"
  },
  "language_info": {
   "codemirror_mode": {
    "name": "ipython",
    "version": 3
   },
   "file_extension": ".py",
   "mimetype": "text/x-python",
   "name": "python",
   "nbconvert_exporter": "python",
   "pygments_lexer": "ipython3",
   "version": "3.6.5"
  }
 },
 "nbformat": 4,
 "nbformat_minor": 2
}
