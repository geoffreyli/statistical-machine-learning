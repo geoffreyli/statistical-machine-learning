{
 "cells": [
  {
   "cell_type": "markdown",
   "metadata": {},
   "source": [
    "## DATA 558: Take Home Midterm\n",
    "\n",
    "Geoffrey Li\n",
    "\n",
    "May 19, 2019"
   ]
  },
  {
   "cell_type": "code",
   "execution_count": 2,
   "metadata": {},
   "outputs": [],
   "source": [
    "import pandas as pd\n",
    "import numpy as np\n",
    "import matplotlib.pyplot as plt\n",
    "from sklearn import preprocessing\n",
    "import datetime\n",
    "import random"
   ]
  },
  {
   "cell_type": "markdown",
   "metadata": {},
   "source": [
    "## Exercise 2: Data Competition Project"
   ]
  },
  {
   "cell_type": "markdown",
   "metadata": {},
   "source": [
    "### 2.1: Define Functions"
   ]
  },
  {
   "cell_type": "markdown",
   "metadata": {},
   "source": [
    "Using functions as defined in Exercise 1."
   ]
  },
  {
   "cell_type": "code",
   "execution_count": 50,
   "metadata": {},
   "outputs": [],
   "source": [
    "def computegrad(x, y, beta, lamb, rho):\n",
    "    p = np.identity(len(x)) - np.diag(1/(1+np.exp(np.multiply(-rho*y, x@beta))).reshape(1, -1)[0])\n",
    "    return -1/len(x) * x.T @ p @ y + 2*lamb*beta\n",
    "\n",
    "\n",
    "def computeobj(x, y, beta, lamb, rho):\n",
    "    return 1/(len(x)*rho)*np.sum(np.log(1+np.exp(np.multiply(-rho*y, x@beta)))) + lamb*np.sum(beta**2)\n",
    "\n",
    "\n",
    "def backtracking(curr_beta, lamb, x, y, rho, eta_t=1, alpha=0.5, gamma=0.5, max_iter=100):\n",
    "    grad_curr_beta = computegrad(x, y, curr_beta, lamb, rho)  # Gradient at current beta\n",
    "    norm_grad_curr_beta = np.sqrt(np.sum(grad_curr_beta ** 2))  # Norm of the gradient at current beta\n",
    "    found_eta_t = False\n",
    "    i = 0  # Iteration counter\n",
    "\n",
    "    while (found_eta_t is False and i < max_iter):\n",
    "        if (computeobj(x, y, curr_beta - eta_t * grad_curr_beta, lamb, rho) <\n",
    "                computeobj(x, y, curr_beta, lamb, rho) - alpha * eta_t * norm_grad_curr_beta ** 2):\n",
    "            found_eta_t = True\n",
    "        elif i == max_iter - 1:\n",
    "            raise ('Maximum number of iterations of backtracking reached')\n",
    "        else:\n",
    "            eta_t *= gamma\n",
    "            i += 1\n",
    "\n",
    "    return eta_t\n",
    "\n",
    "\n",
    "def initstepsize(x, lamb):\n",
    "    return 1/(max(np.linalg.eigh(1/len(x)*x.T@x)[0]) + lamb)\n",
    "\n",
    "\n",
    "# def graddescent(beta_init, lamb, x, y, rho, ss_init, targ_acc):\n",
    "#     beta_values = list()\n",
    "#     beta_values.append(beta_init)\n",
    "\n",
    "#     grad_beta = computegrad(x, y, beta_init, lamb, rho)\n",
    "#     norm_grad_beta = np.sqrt(np.sum(grad_beta ** 2))\n",
    "#     tuned_step_size = ss_init\n",
    "\n",
    "#     t = 0\n",
    "\n",
    "#     while norm_grad_beta > targ_acc:\n",
    "#         tuned_step_size = backtracking(beta_values[t], lamb, x, y, rho, \n",
    "#                                        eta_t=tuned_step_size, alpha=0.5, gamma=0.8, max_iter=100)\n",
    "#         beta_values.append(beta_values[t] - tuned_step_size * grad_beta)\n",
    "\n",
    "#         t += 1\n",
    "\n",
    "#         grad_beta = computegrad(x, y, beta_values[t], lamb, rho)\n",
    "#         norm_grad_beta = np.sqrt(np.sum(grad_beta ** 2))\n",
    "\n",
    "#     return beta_values\n",
    "\n",
    "\n",
    "def fastgradalgo(beta_init, lamb, x, y, rho, theta_init, ss_init, targ_acc):\n",
    "    beta_values = list()\n",
    "    beta_values.append(beta_init)\n",
    "    theta = theta_init\n",
    "\n",
    "    grad_theta = computegrad(x, y, theta, lamb, rho)\n",
    "\n",
    "    grad_beta = computegrad(x, y, beta_init, lamb, rho)\n",
    "    norm_grad_beta = np.sqrt(np.sum(grad_beta ** 2))\n",
    "\n",
    "    tuned_step_size = ss_init\n",
    "\n",
    "    t = 0\n",
    "\n",
    "    while norm_grad_beta > targ_acc:\n",
    "        grad_theta = computegrad(x, y, theta, lamb, rho)\n",
    "\n",
    "        tuned_step_size = backtracking(beta_values[t], lamb, x, y, rho, \n",
    "                                       eta_t=tuned_step_size, alpha=0.5, gamma=0.8, max_iter=100)\n",
    "\n",
    "        beta_values.append(theta - tuned_step_size * grad_theta)\n",
    "        theta = beta_values[t + 1] + (t / (t + 3)) * (beta_values[t + 1] - beta_values[t])\n",
    "\n",
    "        t += 1\n",
    "\n",
    "        grad_beta = computegrad(x, y, beta_values[t], lamb, rho)\n",
    "        norm_grad_beta = np.sqrt(np.sum(grad_beta ** 2))\n",
    "\n",
    "    return beta_values\n",
    "\n",
    "\n",
    "def misclassificationerror(y, x, b):\n",
    "    return 1 - np.mean(\n",
    "        np.fromiter(map(lambda p: 1 if p >= 0.5 else -1, 1/(1+np.exp(-x@b))), \n",
    "                    dtype=np.int).reshape(-1,1) == y)\n",
    "\n",
    "def misclassificationerror_transform(y, x, b, pos_class, neg_class):\n",
    "    return 1 - np.mean(\n",
    "        np.fromiter(map(lambda p: pos_class if p >= 0.5 else neg_class, 1/(1+np.exp(-x@b))), \n",
    "                    dtype=np.int) == y)"
   ]
  },
  {
   "cell_type": "code",
   "execution_count": 4,
   "metadata": {},
   "outputs": [],
   "source": [
    "def myrhologistic(x_train, y_train, init_eta, target_accuracy, rho, lamb):\n",
    "    init_beta = np.zeros(x_train.shape[1])[:, np.newaxis]\n",
    "    init_theta = np.zeros(x_train.shape[1])[:, np.newaxis]\n",
    "    \n",
    "    # Run fast gradient and train classifier\n",
    "    beta_opt = fastgradalgo(init_beta, lamb, x_train, y_train, rho, init_theta, init_eta, target_accuracy)\n",
    "    beta_opt_T = beta_opt[len(beta_opt)-1]\n",
    "    \n",
    "    return beta_opt_T"
   ]
  },
  {
   "cell_type": "code",
   "execution_count": 5,
   "metadata": {},
   "outputs": [],
   "source": [
    "def crossval(x, y, testsetsize, params, targ_acc, rho):\n",
    "    # testsetsize denotes percentage of training data to be split as test data (e.g. 0.20 is 80/20 split)\n",
    "    # testsetsize = 1 indicates leave-one-out CV\n",
    "    \n",
    "    n = len(x)\n",
    "    cv_results = dict()\n",
    "    errors = list()\n",
    "    \n",
    "    if testsetsize == 1: #leave-one-out CV\n",
    "        for l in params:\n",
    "            print('Start CV for Lambda = '+str(l))\n",
    "            eta_init = initstepsize(x, l)\n",
    "            errors = list()\n",
    "            \n",
    "            for i in range(n):\n",
    "                cv_x_test = x[i,:]\n",
    "                cv_y_test = y[i,:]\n",
    "                cv_x_train = np.delete(x, i, 0)\n",
    "                cv_y_train = np.delete(y, i, 0)\n",
    "\n",
    "                beta_T = myrhologistic(cv_x_train, cv_y_train, eta_init, targ_acc, rho, l)\n",
    "                errors.append(misclassificationerror(cv_y_test, cv_x_test, beta_T))\n",
    "#                 print('LOO CV Iteration '+str(i)+' complete.')\n",
    "            \n",
    "            cv_results[l] = np.mean(errors)\n",
    "    elif testsetsize > 0 and testsetsize < 1:\n",
    "        testset_idx = random.sample(range(n), int(n*testsetsize)) # Generate random test set indices\n",
    "        cv_x_test = x[testset_idx,:]\n",
    "        cv_y_test = y[testset_idx,:]\n",
    "        cv_x_train = np.delete(x, testset_idx, 0)\n",
    "        cv_y_train = np.delete(y, testset_idx, 0)\n",
    "        \n",
    "        for l in params:\n",
    "            eta_init = initstepsize(x, l)\n",
    "            \n",
    "            beta_T = myrhologistic(cv_x_train, cv_y_train, eta_init, targ_acc, rho, l)\n",
    "            cv_results[l] = misclassificationerror(cv_y_test, cv_x_test, beta_T)\n",
    "            \n",
    "    else:\n",
    "        raise('Invalid test set size.')\n",
    "    \n",
    "    return min(cv_results, key=cv_results.get), cv_results"
   ]
  },
  {
   "cell_type": "markdown",
   "metadata": {},
   "source": [
    "### 2.2: Loading and processing data"
   ]
  },
  {
   "cell_type": "code",
   "execution_count": 6,
   "metadata": {},
   "outputs": [],
   "source": [
    "path = './compdata/'"
   ]
  },
  {
   "cell_type": "code",
   "execution_count": 7,
   "metadata": {},
   "outputs": [],
   "source": [
    "X_train = np.load(path+'train_features.npy')\n",
    "y_train = np.load(path+'train_labels.npy')\n",
    "\n",
    "X_val = np.load(path+'val_features.npy')\n",
    "y_val = np.load(path+'val_labels.npy')\n",
    "\n",
    "X_test = np.load(path+'test_features.npy')"
   ]
  },
  {
   "cell_type": "code",
   "execution_count": 8,
   "metadata": {},
   "outputs": [],
   "source": [
    "# Standardize the data\n",
    "scaler = preprocessing.StandardScaler().fit(X_train)\n",
    "X_train = scaler.transform(X_train)\n",
    "X_val = scaler.transform(X_val)\n",
    "X_test = scaler.transform(X_test)"
   ]
  },
  {
   "cell_type": "code",
   "execution_count": 9,
   "metadata": {},
   "outputs": [],
   "source": [
    "# Subsets training and validation data based on input classes\n",
    "def subset_data(pos_class, neg_class, X_train, y_train, X_val, y_val):\n",
    "    train_subset = (y_train == pos_class) | (y_train == neg_class)\n",
    "    val_subset = (y_val == pos_class) | (y_val == neg_class)\n",
    "\n",
    "    y_train_subset = y_train[np.where(train_subset)]\n",
    "    X_train_subset = X_train[train_subset.nonzero()[0]]\n",
    "\n",
    "    y_val_subset = y_val[np.where(val_subset)]\n",
    "    X_val_subset = X_val[val_subset.nonzero()[0]]\n",
    "    \n",
    "    y_train_subset = np.fromiter(map(lambda n: 1 if n == pos_class else -1, y_train_subset), dtype=int).reshape(-1, 1)\n",
    "    y_val_subset = np.fromiter(map(lambda n: 1 if n == pos_class else -1, y_val_subset), dtype=int).reshape(-1, 1)\n",
    "    \n",
    "    return X_train_subset, y_train_subset, X_val_subset, y_val_subset"
   ]
  },
  {
   "cell_type": "markdown",
   "metadata": {},
   "source": [
    "### 2.3: Training model with default params"
   ]
  },
  {
   "cell_type": "markdown",
   "metadata": {},
   "source": [
    "Pick two classes of your choice from the dataset. Train a classifier using l2-regularized binary logistic regression with ρ-logistic loss on the training set using your own accelerated gradient algorithm with ρ = 2, ε = 10−3, and λ = 1. Be sure to use the features you previously generated with the provided script rather than the raw image features. "
   ]
  },
  {
   "cell_type": "markdown",
   "metadata": {},
   "source": [
    "First two arguments in the subset_data() function indicate the positive and negative class respectively. In this first exercise we'll choose pos_class = 1 and neg_class = 0."
   ]
  },
  {
   "cell_type": "code",
   "execution_count": 10,
   "metadata": {},
   "outputs": [],
   "source": [
    "X_train_subset, y_train_subset, X_val_subset, y_val_subset = subset_data(1, 0, X_train, y_train, X_val, y_val)"
   ]
  },
  {
   "cell_type": "code",
   "execution_count": 11,
   "metadata": {},
   "outputs": [],
   "source": [
    "# Initialize fast gradient\n",
    "init_beta = np.zeros(X_train_subset.shape[1])[:, np.newaxis]\n",
    "init_theta = np.zeros(X_train_subset.shape[1])[:, np.newaxis]\n",
    "lambduh = 1\n",
    "target_accuracy = 10**-3\n",
    "r = 2\n",
    "init_eta = initstepsize(X_train_subset, lambduh)\n",
    "\n",
    "# Train classifier\n",
    "beta_opt_naive = fastgradalgo(init_beta, lambduh, X_train_subset, y_train_subset, r, \n",
    "                              init_theta, init_eta, target_accuracy)\n",
    "\n"
   ]
  },
  {
   "cell_type": "markdown",
   "metadata": {},
   "source": [
    "Plot, with different colors, the misclassification error on the training set and on the validation set vs iterations.\n"
   ]
  },
  {
   "cell_type": "code",
   "execution_count": 51,
   "metadata": {
    "scrolled": false
   },
   "outputs": [
    {
     "data": {
      "image/png": "[encoded data removed]",
      "text/plain": [
       "<Figure size 720x576 with 1 Axes>"
      ]
     },
     "metadata": {},
     "output_type": "display_data"
    }
   ],
   "source": [
    "# Plot misclassification error\n",
    "plt.figure(figsize=(10,8))\n",
    "plt.plot(range(0,len(beta_opt_naive)),\n",
    "         list(map(lambda b: misclassificationerror_transform(y_train,X_train,b,1,0),beta_opt_naive)))\n",
    "plt.plot(range(0,len(beta_opt_naive)),\n",
    "         list(map(lambda b: misclassificationerror_transform(y_val,X_val,b,1,0),beta_opt_naive)))\n",
    "plt.legend(['Training data', 'Validation data'], loc='upper right')\n",
    "plt.title('Misclassification Error vs. Iteration t')\n",
    "plt.xlabel('Iteration t')\n",
    "plt.ylabel('Misclassification Error');"
   ]
  },
  {
   "cell_type": "markdown",
   "metadata": {},
   "source": [
    "As expected, the misclassification error rate approaches 0.8 for the Training data (we only picked 2 classes to train on). For the Validation data, it performs slightly worse as we are using unseen data."
   ]
  },
  {
   "cell_type": "markdown",
   "metadata": {},
   "source": [
    "### 2.4a: Training model with 80/20 Hold-Out CV"
   ]
  },
  {
   "cell_type": "markdown",
   "metadata": {},
   "source": [
    "Find the value of the regularization parameter λ using using hold-out cross-validation. Train a classifier using l2-regularized binary logistic regression with ρ-logistic loss on the training set using your own accelerated gradient algorithm with that value of λ found by hold-out cross-validation."
   ]
  },
  {
   "cell_type": "code",
   "execution_count": 13,
   "metadata": {},
   "outputs": [],
   "source": [
    "X_train_subset, y_train_subset, X_val_subset, y_val_subset = subset_data(1, 0, X_train, y_train, X_val, y_val)"
   ]
  },
  {
   "cell_type": "code",
   "execution_count": 14,
   "metadata": {},
   "outputs": [],
   "source": [
    "# Initialize fast gradient\n",
    "init_beta = np.zeros(X_train_subset.shape[1])[:, np.newaxis]\n",
    "init_theta = np.zeros(X_train_subset.shape[1])[:, np.newaxis]\n",
    "target_accuracy = 10**-3\n",
    "r = 2\n",
    "test_set_fraction = 0.20\n",
    "lambs = [10**i for i in range(2, -3, -1)]\n",
    "\n",
    "# Run CV to find optimal lambda\n",
    "opt_lamb, cv_res_holdout = crossval(X_train_subset, y_train_subset, test_set_fraction, lambs, target_accuracy, r)\n",
    "init_eta = initstepsize(X_train_subset, opt_lamb)\n",
    "\n",
    "\n",
    "# Train classifier\n",
    "beta_opt_holdout = fastgradalgo(init_beta, opt_lamb, X_train_subset, y_train_subset, r, \n",
    "                                init_theta, init_eta, target_accuracy)"
   ]
  },
  {
   "cell_type": "code",
   "execution_count": 55,
   "metadata": {},
   "outputs": [
    {
     "name": "stdout",
     "output_type": "stream",
     "text": [
      "0.1\n"
     ]
    }
   ],
   "source": [
    "# Lambda found using hold-out CV\n",
    "print(opt_lamb)"
   ]
  },
  {
   "cell_type": "markdown",
   "metadata": {},
   "source": [
    "Plot, with different colors, the misclassification error on the training set and on the validation set vs. iterations."
   ]
  },
  {
   "cell_type": "code",
   "execution_count": 53,
   "metadata": {},
   "outputs": [
    {
     "data": {
      "image/png": "[encoded data removed]",
      "text/plain": [
       "<Figure size 720x576 with 1 Axes>"
      ]
     },
     "metadata": {},
     "output_type": "display_data"
    }
   ],
   "source": [
    "# Plot misclassification error\n",
    "plt.figure(figsize=(10,8))\n",
    "plt.plot(range(0,len(beta_opt_holdout)),\n",
    "         list(map(lambda b: misclassificationerror_transform(y_train,X_train,b,1,0),beta_opt_holdout)))\n",
    "plt.plot(range(0,len(beta_opt_holdout)),\n",
    "         list(map(lambda b: misclassificationerror_transform(y_val,X_val,b,1,0),beta_opt_holdout)))\n",
    "plt.legend(['Training data', 'Validation data'], loc='upper right')\n",
    "plt.title('Misclassification Error vs. Iteration t')\n",
    "plt.xlabel('Iteration t')\n",
    "plt.ylabel('Misclassification Error');"
   ]
  },
  {
   "cell_type": "markdown",
   "metadata": {},
   "source": [
    "As expected, the misclassification error rate approaches 0.8 for the Training data (we only picked 2 classes to train on). For the Validation data, it performs slightly worse as we are using unseen data."
   ]
  },
  {
   "cell_type": "markdown",
   "metadata": {},
   "source": [
    "### 2.4b: Training model with Leave-One-Out CV"
   ]
  },
  {
   "cell_type": "markdown",
   "metadata": {},
   "source": [
    "Find the value of the regularization parameter λ using using leave-one-out cross-validation."
   ]
  },
  {
   "cell_type": "code",
   "execution_count": null,
   "metadata": {},
   "outputs": [],
   "source": [
    "X_train_subset, y_train_subset, X_val_subset, y_val_subset = subset_data(1, 0, X_train, y_train, X_val, y_val)"
   ]
  },
  {
   "cell_type": "code",
   "execution_count": null,
   "metadata": {},
   "outputs": [],
   "source": [
    "# Initialize fast gradient\n",
    "init_beta = np.zeros(X_train_subset.shape[1])[:, np.newaxis]\n",
    "init_theta = np.zeros(X_train_subset.shape[1])[:, np.newaxis]\n",
    "target_accuracy = 10**-3\n",
    "r = 2\n",
    "test_set_fraction = 1 #LOO CV\n",
    "lambs = [10**i for i in range(2, -3, -1)]\n",
    "\n",
    "# Run CV to find optimal lambda\n",
    "opt_lamb, cv_res_loo = crossval(X_train_subset, y_train_subset, test_set_fraction, lambs, target_accuracy, r)\n",
    "init_eta = initstepsize(X_train_subset, opt_lamb)\n",
    "\n",
    "\n",
    "# Train classifier\n",
    "beta_opt_loo = fastgradalgo(init_beta, opt_lamb, X_train_subset, y_train_subset, r, \n",
    "                                init_theta, init_eta, target_accuracy)"
   ]
  },
  {
   "cell_type": "code",
   "execution_count": 56,
   "metadata": {},
   "outputs": [
    {
     "name": "stdout",
     "output_type": "stream",
     "text": [
      "0.1\n"
     ]
    }
   ],
   "source": [
    "# Lambda found using LOO CV\n",
    "print(opt_lamb)"
   ]
  },
  {
   "cell_type": "markdown",
   "metadata": {},
   "source": [
    "### 2.5: Training pairwise models with 80/20 Holdout CV"
   ]
  },
  {
   "cell_type": "markdown",
   "metadata": {},
   "source": [
    "Consider all pairs of classes from the dataset. For each pair of classes, train a classifier using a l2-regularized binary logistic regression with ρ-logistic loss on the training set comprising only the data-points for that pair of classes using your own fast gradient algorithm. For each pair of classes, find the value of the regularization parameter λ using hold-out cross-validation on the training set comprising only the data-points for that pair of classes."
   ]
  },
  {
   "cell_type": "code",
   "execution_count": null,
   "metadata": {
    "scrolled": true
   },
   "outputs": [],
   "source": [
    "# Initialize fast gradient\n",
    "init_beta = np.zeros(X_train_subset.shape[1])[:, np.newaxis]\n",
    "init_theta = np.zeros(X_train_subset.shape[1])[:, np.newaxis]\n",
    "target_accuracy = 10**-3\n",
    "r = 2\n",
    "test_set_fraction = 0.20\n",
    "lambs = [10**i for i in range(-4, 3)]\n",
    "opt_lamb_pairwise = list()\n",
    "\n",
    "# Store trained beta values in a list of length 45, one entry for each pairwise classifier\n",
    "pairwise_clfs = dict()\n",
    "\n",
    "for i in range(10):\n",
    "    for j in range(i+1, 10):\n",
    "        print('Training ('+str(i)+','+str(j)+') model...')\n",
    "        X_train_subset, y_train_subset, X_val_subset, y_val_subset = subset_data(i, j, X_train, y_train, X_val, y_val)\n",
    "        \n",
    "        # Run CV to find optimal lambda\n",
    "        opt_lamb, cv_res_pairwise = crossval(X_train_subset, y_train_subset, test_set_fraction, lambs, \n",
    "                                            target_accuracy, r)\n",
    "        opt_lamb_pairwise.append(opt_lamb)\n",
    "        init_eta = initstepsize(X_train_subset, opt_lamb)\n",
    "        \n",
    "        # Train classifier\n",
    "        beta_opt_pairwise = fastgradalgo(init_beta, opt_lamb, X_train_subset, y_train_subset, r, \n",
    "                                         init_theta, init_eta, target_accuracy)\n",
    "        \n",
    "        pairwise_clfs[(i, j)] = beta_opt_pairwise[len(beta_opt_pairwise)-1]\n",
    "\n",
    "                "
   ]
  },
  {
   "cell_type": "code",
   "execution_count": 88,
   "metadata": {},
   "outputs": [
    {
     "name": "stdout",
     "output_type": "stream",
     "text": [
      "(0,1) Model Optimal Lambda: 0.0001\n",
      "(0,2) Model Optimal Lambda: 0.01\n",
      "(0,3) Model Optimal Lambda: 1\n",
      "(0,4) Model Optimal Lambda: 0.01\n",
      "(0,5) Model Optimal Lambda: 0.0001\n",
      "(0,6) Model Optimal Lambda: 0.0001\n",
      "(0,7) Model Optimal Lambda: 0.0001\n",
      "(0,8) Model Optimal Lambda: 0.0001\n",
      "(0,9) Model Optimal Lambda: 0.001\n",
      "(1,2) Model Optimal Lambda: 0.1\n",
      "(1,3) Model Optimal Lambda: 1\n",
      "(1,4) Model Optimal Lambda: 1\n",
      "(1,5) Model Optimal Lambda: 10\n",
      "(1,6) Model Optimal Lambda: 0.001\n",
      "(1,7) Model Optimal Lambda: 0.1\n",
      "(1,8) Model Optimal Lambda: 0.0001\n",
      "(1,9) Model Optimal Lambda: 0.0001\n",
      "(2,3) Model Optimal Lambda: 1\n",
      "(2,4) Model Optimal Lambda: 0.01\n",
      "(2,5) Model Optimal Lambda: 0.0001\n",
      "(2,6) Model Optimal Lambda: 1\n",
      "(2,7) Model Optimal Lambda: 0.0001\n",
      "(2,8) Model Optimal Lambda: 1\n",
      "(2,9) Model Optimal Lambda: 1\n",
      "(3,4) Model Optimal Lambda: 1\n",
      "(3,5) Model Optimal Lambda: 0.0001\n",
      "(3,6) Model Optimal Lambda: 1\n",
      "(3,7) Model Optimal Lambda: 0.0001\n",
      "(3,8) Model Optimal Lambda: 0.0001\n",
      "(3,9) Model Optimal Lambda: 0.1\n",
      "(4,5) Model Optimal Lambda: 1\n",
      "(4,6) Model Optimal Lambda: 1\n",
      "(4,7) Model Optimal Lambda: 0.0001\n",
      "(4,8) Model Optimal Lambda: 0.01\n",
      "(4,9) Model Optimal Lambda: 1\n",
      "(5,6) Model Optimal Lambda: 0.01\n",
      "(5,7) Model Optimal Lambda: 0.0001\n",
      "(5,8) Model Optimal Lambda: 0.0001\n",
      "(5,9) Model Optimal Lambda: 0.0001\n",
      "(6,7) Model Optimal Lambda: 1\n",
      "(6,8) Model Optimal Lambda: 0.0001\n",
      "(6,9) Model Optimal Lambda: 1\n",
      "(7,8) Model Optimal Lambda: 0.01\n",
      "(7,9) Model Optimal Lambda: 1\n",
      "(8,9) Model Optimal Lambda: 0.0001\n"
     ]
    }
   ],
   "source": [
    "c = 0\n",
    "for i in range(10):\n",
    "    for j in range(i+1, 10):\n",
    "        print('('+str(i)+','+str(j)+') Model Optimal Lambda: '+str(opt_lamb_pairwise[c]))\n",
    "        c += 1"
   ]
  },
  {
   "cell_type": "markdown",
   "metadata": {},
   "source": [
    "### 2.6: Predicting using pairwise classifiers"
   ]
  },
  {
   "cell_type": "markdown",
   "metadata": {},
   "source": [
    "Write a function that for any new data point predicts its label. To do this, you will perform the following: input the data point into each classifier (for each pair of classes) you trained above. Record the class predicted by each classifier. Then your prediction for this data point is the most frequently predicted class. If there is a tie, randomly choose between the tied classes."
   ]
  },
  {
   "cell_type": "code",
   "execution_count": null,
   "metadata": {},
   "outputs": [],
   "source": [
    "def majority_vote(array):\n",
    "    most = max(list(map(array.count, array)))\n",
    "    return random.choice(list(set(filter(lambda x: array.count(x) == most, array))))"
   ]
  },
  {
   "cell_type": "code",
   "execution_count": null,
   "metadata": {},
   "outputs": [],
   "source": [
    "def predict_pairwise(betas, x):\n",
    "    preds = list(map(lambda p: p[0] if 1/(1+np.exp(-x@betas[p])) > 0.5 else p[1], betas))\n",
    "    return majority_vote(preds)"
   ]
  },
  {
   "cell_type": "markdown",
   "metadata": {},
   "source": [
    "Report the misclassification error on the validation set and test set."
   ]
  },
  {
   "cell_type": "code",
   "execution_count": 57,
   "metadata": {},
   "outputs": [
    {
     "data": {
      "text/plain": [
       "0.241"
      ]
     },
     "execution_count": 57,
     "metadata": {},
     "output_type": "execute_result"
    }
   ],
   "source": [
    "# Validation set predictions\n",
    "y_val_preds = list(map(lambda n: predict_pairwise(pairwise_clfs, n), X_val))\n",
    "\n",
    "# Misclassification Error Rate for Validation Set\n",
    "1 - np.mean(y_val_preds == y_val)"
   ]
  },
  {
   "cell_type": "code",
   "execution_count": null,
   "metadata": {},
   "outputs": [],
   "source": [
    "# Test set predictions\n",
    "y_test_preds = list(map(lambda n: predict_pairwise(pairwise_clfs, n), X_test))\n",
    "\n",
    "# Write to CSV for Kaggle submission\n",
    "pd.DataFrame({'Category':y_test_preds}).reset_index()\\\n",
    "             .rename(columns={'index':'Id'}).to_csv('./y_test_preds_power10lamb_expand.csv', index=False)"
   ]
  },
  {
   "cell_type": "code",
   "execution_count": 58,
   "metadata": {},
   "outputs": [
    {
     "data": {
      "text/plain": [
       "0.27"
      ]
     },
     "execution_count": 58,
     "metadata": {},
     "output_type": "execute_result"
    }
   ],
   "source": [
    "# From Kaggle\n",
    "# Misclassification Error Rate for Test Set\n",
    "1 - 0.73"
   ]
  },
  {
   "cell_type": "markdown",
   "metadata": {},
   "source": [
    "Report the precision/recall on the validation set."
   ]
  },
  {
   "cell_type": "code",
   "execution_count": 79,
   "metadata": {},
   "outputs": [],
   "source": [
    "def prec_rec(pos_class, y_pred, y_actual):\n",
    "    true_pos = len(y_pred[np.where(y_actual == pos_class)][\n",
    "        np.where(y_pred[np.where(y_actual == pos_class)] == pos_class)])\n",
    "    false_neg = len(y_pred[np.where(y_actual == pos_class)][\n",
    "        np.where(y_pred[np.where(y_actual == pos_class)] != pos_class)])\n",
    "    true_neg = len(y_val_preds[np.where(y_val != pos_class)][\n",
    "        np.where(y_val_preds[np.where(y_val != pos_class)] != pos_class)])\n",
    "    false_pos = len(y_val_preds[np.where(y_val != pos_class)][\n",
    "        np.where(y_val_preds[np.where(y_val != pos_class)] == pos_class)])\n",
    "    \n",
    "    precision = true_pos/(true_pos+false_pos)\n",
    "    recall = true_pos/(true_pos+false_neg)\n",
    "    \n",
    "    return precision, recall"
   ]
  },
  {
   "cell_type": "code",
   "execution_count": 70,
   "metadata": {
    "scrolled": true
   },
   "outputs": [],
   "source": [
    "y_val_preds = np.fromiter(y_val_preds, dtype=np.int)"
   ]
  },
  {
   "cell_type": "code",
   "execution_count": 82,
   "metadata": {},
   "outputs": [
    {
     "name": "stdout",
     "output_type": "stream",
     "text": [
      "Positive Class = 0\n",
      "Precision: 0.7889908256880734, Recall: 0.86\n",
      "\n",
      "Positive Class = 1\n",
      "Precision: 0.7142857142857143, Recall: 0.75\n",
      "\n",
      "Positive Class = 2\n",
      "Precision: 0.7314814814814815, Recall: 0.79\n",
      "\n",
      "Positive Class = 3\n",
      "Precision: 0.7021276595744681, Recall: 0.66\n",
      "\n",
      "Positive Class = 4\n",
      "Precision: 0.7692307692307693, Recall: 0.7\n",
      "\n",
      "Positive Class = 5\n",
      "Precision: 0.7884615384615384, Recall: 0.82\n",
      "\n",
      "Positive Class = 6\n",
      "Precision: 0.6804123711340206, Recall: 0.66\n",
      "\n",
      "Positive Class = 7\n",
      "Precision: 0.7857142857142857, Recall: 0.77\n",
      "\n",
      "Positive Class = 8\n",
      "Precision: 0.819047619047619, Recall: 0.86\n",
      "\n",
      "Positive Class = 9\n",
      "Precision: 0.8089887640449438, Recall: 0.72\n",
      "\n"
     ]
    }
   ],
   "source": [
    "for i in range(10):\n",
    "    print('Positive Class = '+str(i))\n",
    "    prec, rec = prec_rec(i, y_val_preds, y_val)\n",
    "    print('Precision: '+str(prec)+', Recall: '+str(rec))\n",
    "    print('')"
   ]
  }
 ],
 "metadata": {
  "kernelspec": {
   "display_name": "Python 3",
   "language": "python",
   "name": "python3"
  },
  "language_info": {
   "codemirror_mode": {
    "name": "ipython",
    "version": 3
   },
   "file_extension": ".py",
   "mimetype": "text/x-python",
   "name": "python",
   "nbconvert_exporter": "python",
   "pygments_lexer": "ipython3",
   "version": "3.7.3"
  }
 },
 "nbformat": 4,
 "nbformat_minor": 2
}
